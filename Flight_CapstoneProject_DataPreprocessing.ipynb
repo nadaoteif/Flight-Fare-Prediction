{
 "cells": [
  {
   "cell_type": "markdown",
   "id": "e6596663",
   "metadata": {
    "id": "e6596663"
   },
   "source": [
    "---\n",
    "# PySpark Machine Learning Models\n",
    "---\n",
    "* Use Spark to build ML models of your choice (classification – regression) in the attempt of solving your business problem. \n",
    "* Build at least 4 models, optimize them, test them, and include your results. You will not be graded on accuracy and it is more important that you are implementing your techniques correctly even if the model does not return the intended results. If your model does not provide sufficient accuracy levels, make sure to present your work while explaining possible reasons behind this shortfall. "
   ]
  },
  {
   "cell_type": "markdown",
   "id": "540e4e82",
   "metadata": {
    "id": "540e4e82"
   },
   "source": [
    "### **Column:**\n",
    "\n",
    "* legId: An identifier for the flight.\n",
    "* searchDate: The date (YYYY-MM-DD) on which this entry was taken from Expedia.\n",
    "* flightDate: The date (YYYY-MM-DD) of the flight.\n",
    "* startingAirport: Three-character IATA airport code for the initial location.\n",
    "* destinationAirport: Three-character IATA airport code for the arrival location.\n",
    "* fareBasisCode: The fare basis code.\n",
    "* travelDuration: The travel duration in hours and minutes.\n",
    "* elapsedDays: The number of elapsed days (usually 0).\n",
    "* isBasicEconomy: Boolean for whether the ticket is for basic economy.\n",
    "* isRefundable: Boolean for whether the ticket is refundable.\n",
    "* isNonStop: Boolean for whether the flight is non-stop.\n",
    "* baseFare: The price of the ticket (in USD).\n",
    "* totalFare: The price of the ticket (in USD) including taxes and other fees.\n",
    "* seatsRemaining: Integer for the number of seats remaining.\n",
    "* totalTravelDistance: The total travel distance in miles. This data is sometimes missing.\n",
    "* segmentsDepartureTimeEpochSeconds: String containing the departure time (Unix time) for each leg of the trip. The entries for each of the legs are separated by '||'.\n",
    "* segmentsDepartureTimeRaw: String containing the departure time (ISO 8601 format: YYYY-MM-DDThh:mm:ss.000±[hh]:00) for each leg of the trip. The entries for each of the legs are separated by '||'.\n",
    "* segmentsArrivalTimeEpochSeconds: String containing the arrival time (Unix time) for each leg of the trip. The entries for each of the legs are separated by '||'.\n",
    "* segmentsArrivalTimeRaw: String containing the arrival time (ISO 8601 format: YYYY-MM-DDThh:mm:ss.000±[hh]:00) for each leg of the trip. The entries for each of the legs are separated by '||'.\n",
    "* segmentsArrivalAirportCode: String containing the IATA airport code for the arrival location for each leg of the trip. The entries for each of the legs are separated by '||'.\n",
    "* segmentsDepartureAirportCode: String containing the IATA airport code for the departure location for each leg of the trip. The entries for each of the legs are separated by '||'.\n",
    "* segmentsAirlineName: String containing the name of the airline that services each leg of the trip. The entries for each of the legs are separated by '||'.\n",
    "* segmentsAirlineCode: String containing the two-letter airline code that services each leg of the trip. The entries for each of the legs are separated by '||'.\n",
    "* segmentsEquipmentDescription: String containing the type of airplane used for each leg of the trip (e.g. \"Airbus A321\" or \"Boeing 737-800\"). The entries for each of the legs are separated by '||'.\n",
    "* segmentsDurationInSeconds: String containing the duration of the flight (in seconds) for each leg of the trip. The entries for each of the legs are separated by '||'.\n",
    "* segmentsDistance: String containing the distance traveled (in miles) for each leg of the trip. The entries for each of the legs are separated by '||'.\n",
    "* segmentsCabinCode: String containing the cabin for each leg of the trip (e.g. \"coach\"). The entries for each of the legs are separated by '||'."
   ]
  },
  {
   "cell_type": "markdown",
   "id": "ffd2cec4",
   "metadata": {
    "id": "ffd2cec4"
   },
   "source": [
    "## Install Pyspark"
   ]
  },
  {
   "cell_type": "code",
   "execution_count": 1,
   "id": "fe40f54f",
   "metadata": {
    "id": "fe40f54f",
    "outputId": "c7c83b0f-ee7d-4b0e-ad8f-8589ca91eaee"
   },
   "outputs": [
    {
     "name": "stdout",
     "output_type": "stream",
     "text": [
      "Requirement already satisfied: pyspark in c:\\users\\sarah\\anaconda3\\lib\\site-packages (3.3.1)\n",
      "Requirement already satisfied: py4j==0.10.9.5 in c:\\users\\sarah\\anaconda3\\lib\\site-packages (from pyspark) (0.10.9.5)\n"
     ]
    }
   ],
   "source": [
    "!pip install pyspark"
   ]
  },
  {
   "cell_type": "markdown",
   "id": "c3b655db",
   "metadata": {
    "id": "c3b655db"
   },
   "source": [
    "## Importing Packages "
   ]
  },
  {
   "cell_type": "code",
   "execution_count": 2,
   "id": "462dfb35",
   "metadata": {
    "id": "462dfb35"
   },
   "outputs": [],
   "source": [
    "import matplotlib.pyplot as plt\n",
    "import seaborn as sns\n",
    "import pandas as pd\n",
    "import numpy as np\n",
    "import math\n",
    "import joblib\n",
    "from sklearn import preprocessing\n",
    "import warnings\n",
    "warnings.filterwarnings('ignore') \n",
    "\n",
    "import pyspark\n",
    "from pyspark.sql.functions import col, isnan, when, count\n",
    "from pyspark.ml.feature import Imputer, VectorAssembler, StringIndexer\n",
    "from pyspark.sql import functions as F\n",
    "from pyspark.sql import types\n",
    "from pyspark.sql.functions import mean\n",
    "from pyspark.ml.regression import RandomForestRegressor, DecisionTreeRegressor, GBTRegressor, LinearRegression\n",
    "from pyspark.ml.evaluation import RegressionEvaluator"
   ]
  },
  {
   "cell_type": "markdown",
   "id": "f3569a2e",
   "metadata": {
    "id": "f3569a2e"
   },
   "source": [
    "## Connect to the Spark server\n",
    "* Initializing a Spark Session"
   ]
  },
  {
   "cell_type": "code",
   "execution_count": 12,
   "id": "f587af5b",
   "metadata": {
    "id": "f587af5b"
   },
   "outputs": [],
   "source": [
    "spark = pyspark.sql.SparkSession.builder.getOrCreate()"
   ]
  },
  {
   "cell_type": "markdown",
   "id": "a709ce6b",
   "metadata": {
    "id": "a709ce6b"
   },
   "source": [
    "## Obtain the Data\n",
    "* Reading the data\n",
    "* Schema information of the data"
   ]
  },
  {
   "cell_type": "code",
   "execution_count": 23,
   "id": "7fb78075",
   "metadata": {
    "id": "7fb78075",
    "outputId": "1c4e85ab-9ddc-46a6-df03-c7b79d9e6497"
   },
   "outputs": [
    {
     "name": "stdout",
     "output_type": "stream",
     "text": [
      "root\n",
      " |-- legId: string (nullable = true)\n",
      " |-- searchDate: string (nullable = true)\n",
      " |-- flightDate: string (nullable = true)\n",
      " |-- startingAirport: string (nullable = true)\n",
      " |-- destinationAirport: string (nullable = true)\n",
      " |-- fareBasisCode: string (nullable = true)\n",
      " |-- travelDuration: string (nullable = true)\n",
      " |-- elapsedDays: integer (nullable = true)\n",
      " |-- isBasicEconomy: boolean (nullable = true)\n",
      " |-- isRefundable: boolean (nullable = true)\n",
      " |-- isNonStop: boolean (nullable = true)\n",
      " |-- baseFare: double (nullable = true)\n",
      " |-- totalFare: double (nullable = true)\n",
      " |-- seatsRemaining: integer (nullable = true)\n",
      " |-- totalTravelDistance: integer (nullable = true)\n",
      " |-- segmentsDepartureTimeEpochSeconds: string (nullable = true)\n",
      " |-- segmentsDepartureTimeRaw: string (nullable = true)\n",
      " |-- segmentsArrivalTimeEpochSeconds: string (nullable = true)\n",
      " |-- segmentsArrivalTimeRaw: string (nullable = true)\n",
      " |-- segmentsArrivalAirportCode: string (nullable = true)\n",
      " |-- segmentsDepartureAirportCode: string (nullable = true)\n",
      " |-- segmentsAirlineName: string (nullable = true)\n",
      " |-- segmentsAirlineCode: string (nullable = true)\n",
      " |-- segmentsEquipmentDescription: string (nullable = true)\n",
      " |-- segmentsDurationInSeconds: string (nullable = true)\n",
      " |-- segmentsDistance: string (nullable = true)\n",
      " |-- segmentsCabinCode: string (nullable = true)\n",
      "\n"
     ]
    }
   ],
   "source": [
    "data = spark.read.csv('flight/flight.csv',\n",
    "                     sep=',',\n",
    "                     inferSchema=True,\n",
    "                     header=True,\n",
    "                     multiLine=True)\n",
    "data.printSchema()"
   ]
  },
  {
   "cell_type": "markdown",
   "id": "6236e777",
   "metadata": {
    "id": "6236e777"
   },
   "source": [
    "## Shape of the dataset"
   ]
  },
  {
   "cell_type": "code",
   "execution_count": 24,
   "id": "058db7fc",
   "metadata": {
    "id": "058db7fc",
    "outputId": "0f02fc0f-3a73-4246-95b0-0428b760f530"
   },
   "outputs": [
    {
     "name": "stdout",
     "output_type": "stream",
     "text": [
      "Shape of the dataset:  (999999, 27)\n"
     ]
    }
   ],
   "source": [
    "print(\"Shape of the dataset: \", (data.count(), len(data.columns)))"
   ]
  },
  {
   "cell_type": "markdown",
   "id": "d91b1671",
   "metadata": {
    "id": "d91b1671"
   },
   "source": [
    "## Show Dataset"
   ]
  },
  {
   "cell_type": "code",
   "execution_count": 25,
   "id": "087cd916",
   "metadata": {
    "id": "087cd916",
    "outputId": "7f22d460-f3d4-4ef9-f305-96f4ed6762f1"
   },
   "outputs": [
    {
     "name": "stdout",
     "output_type": "stream",
     "text": [
      "+--------------------+----------+----------+---------------+------------------+-------------+--------------+-----------+--------------+------------+---------+--------+---------+--------------+-------------------+---------------------------------+------------------------+-------------------------------+----------------------+--------------------------+----------------------------+--------------------+-------------------+----------------------------+-------------------------+----------------+-----------------+\n",
      "|               legId|searchDate|flightDate|startingAirport|destinationAirport|fareBasisCode|travelDuration|elapsedDays|isBasicEconomy|isRefundable|isNonStop|baseFare|totalFare|seatsRemaining|totalTravelDistance|segmentsDepartureTimeEpochSeconds|segmentsDepartureTimeRaw|segmentsArrivalTimeEpochSeconds|segmentsArrivalTimeRaw|segmentsArrivalAirportCode|segmentsDepartureAirportCode| segmentsAirlineName|segmentsAirlineCode|segmentsEquipmentDescription|segmentsDurationInSeconds|segmentsDistance|segmentsCabinCode|\n",
      "+--------------------+----------+----------+---------------+------------------+-------------+--------------+-----------+--------------+------------+---------+--------+---------+--------------+-------------------+---------------------------------+------------------------+-------------------------------+----------------------+--------------------------+----------------------------+--------------------+-------------------+----------------------------+-------------------------+----------------+-----------------+\n",
      "|9ca0e81111c683bec...| 4/16/2022| 4/17/2022|            ATL|               BOS|     LA0NX0MC|       PT2H29M|          0|         false|       false|     true|  217.67|    248.6|             9|                947|                       1650214620|    2022-04-17T12:57:...|                     1650223560|  2022-04-17T15:26:...|                       BOS|                         ATL|               Delta|                 DL|                 Airbus A321|                     8940|             947|            coach|\n",
      "|98685953630e772a0...| 4/16/2022| 4/17/2022|            ATL|               BOS|     LA0NX0MC|       PT2H30M|          0|         false|       false|     true|  217.67|    248.6|             4|                947|                       1650191400|    2022-04-17T06:30:...|                     1650200400|  2022-04-17T09:00:...|                       BOS|                         ATL|               Delta|                 DL|                 Airbus A321|                     9000|             947|            coach|\n",
      "|98d90cbc32bfbb05c...| 4/16/2022| 4/17/2022|            ATL|               BOS|     LA0NX0MC|       PT2H30M|          0|         false|       false|     true|  217.67|    248.6|             9|                947|                       1650209700|    2022-04-17T11:35:...|                     1650218700|  2022-04-17T14:05:...|                       BOS|                         ATL|               Delta|                 DL|              Boeing 757-200|                     9000|             947|            coach|\n",
      "|969a269d38eae583f...| 4/16/2022| 4/17/2022|            ATL|               BOS|     LA0NX0MC|       PT2H32M|          0|         false|       false|     true|  217.67|    248.6|             8|                947|                       1650218340|    2022-04-17T13:59:...|                     1650227460|  2022-04-17T16:31:...|                       BOS|                         ATL|               Delta|                 DL|                 Airbus A321|                     9120|             947|            coach|\n",
      "|980370cf27c89b40d...| 4/16/2022| 4/17/2022|            ATL|               BOS|     LA0NX0MC|       PT2H34M|          0|         false|       false|     true|  217.67|    248.6|             9|                947|                       1650203940|    2022-04-17T09:59:...|                     1650213180|  2022-04-17T12:33:...|                       BOS|                         ATL|               Delta|                 DL|                 Airbus A321|                     9240|             947|            coach|\n",
      "|79eda9f841e226a1e...| 4/16/2022| 4/17/2022|            ATL|               BOS|     VH0AUEL1|       PT2H38M|          0|         false|       false|     true|  217.67|    248.6|             7|                947|                       1650206700|    2022-04-17T10:45:...|                     1650216180|  2022-04-17T13:23:...|                       BOS|                         ATL|     JetBlue Airways|                 B6|                        null|                     9480|             947|            coach|\n",
      "|9335fae376c38bb61...| 4/16/2022| 4/17/2022|            ATL|               BOS|     V0AJZNN1|       PT4H12M|          0|         false|       false|    false|  213.02|    251.1|             3|                956|             1650198000||16502...|    2022-04-17T08:20:...|           1650203400||16502...|  2022-04-17T09:50:...|                  CLT||BOS|                    ATL||CLT|American Airlines...|             AA||AA|        Airbus A320||Airb...|               5400||7500|        228||728|     coach||coach|\n",
      "|3904bf87f2d1daf33...| 4/16/2022| 4/17/2022|            ATL|               BOS|     V0AJZNN1|       PT5H18M|          0|         false|       false|    false|  213.02|    251.1|             3|                956|             1650198000||16502...|    2022-04-17T08:20:...|           1650203400||16502...|  2022-04-17T09:50:...|                  CLT||BOS|                    ATL||CLT|American Airlines...|             AA||AA|        Airbus A320||Boei...|               5400||8280|        228||728|     coach||coach|\n",
      "|d93988734c44a3c07...| 4/16/2022| 4/17/2022|            ATL|               BOS|     V0AJZNN1|       PT5H32M|          0|         false|       false|    false|  213.02|    251.1|             7|                956|             1650193200||16502...|    2022-04-17T07:00:...|           1650198060||16502...|  2022-04-17T08:21:...|                  CLT||BOS|                    ATL||CLT|American Airlines...|             AA||AA|        Airbus A319||Airb...|               4860||7500|        228||728|     coach||coach|\n",
      "|562e7d5dd6ecbf150...| 4/16/2022| 4/17/2022|            ATL|               BOS|     V0AJZNN1|       PT6H38M|          0|         false|       false|    false|  213.02|    251.1|             7|                956|             1650193200||16502...|    2022-04-17T07:00:...|           1650198060||16502...|  2022-04-17T08:21:...|                  CLT||BOS|                    ATL||CLT|American Airlines...|             AA||AA|        Airbus A319||Boei...|               4860||8280|        228||728|     coach||coach|\n",
      "|c38a6e4b807d15541...| 4/16/2022| 4/17/2022|            ATL|               BOS|     VAA0AKEN|       PT4H46M|          0|         false|       false|    false|  213.02|    252.6|             1|                947|             1650187800||16501...|    2022-04-17T05:30:...|           1650194280||16502...|  2022-04-17T07:18:...|                  IAD||BOS|                    ATL||IAD|      United||United|             UA||UA|        Airbus A319||Boei...|               6480||5940|        541||406|     coach||coach|\n",
      "|f66d72ba3a5265766...| 4/16/2022| 4/17/2022|            ATL|               BOS|     V0AJZNN1|       PT5H45M|          0|         false|       false|    false|  213.02|    252.6|             3|               1462|             1650220740||16502...|    2022-04-17T14:39:...|           1650228840||16502...|  2022-04-17T15:54:...|                  ORD||BOS|                    ATL||ORD|American Airlines...|             AA||AA|        Embraer 175||Boei...|               8100||8340|        600||862|     coach||coach|\n",
      "|e7c4054e85cca9bc7...| 4/16/2022| 4/17/2022|            ATL|               BOS|     V0AJZNN1|       PT5H59M|          0|         false|       false|    false|  213.02|    252.6|             5|               1462|             1650232800||16502...|    2022-04-17T18:00:...|           1650240660||16502...|  2022-04-17T19:11:...|                  ORD||BOS|                    ATL||ORD|American Airlines...|             AA||AA|        Embraer 175||Boei...|               7860||8640|        600||862|     coach||coach|\n",
      "|5fa8c0f8b25eb24bf...| 4/16/2022| 4/17/2022|            ATL|               BOS|     V0AJZNN1|       PT7H18M|          0|         false|       false|    false|  213.02|    252.6|             3|               1462|             1650220740||16502...|    2022-04-17T14:39:...|           1650228840||16502...|  2022-04-17T15:54:...|                  ORD||BOS|                    ATL||ORD|American Airlines...|             AA||AA|        Embraer 175||Airb...|               8100||7920|        600||862|     coach||coach|\n",
      "|948d26b3e5658762c...| 4/16/2022| 4/17/2022|            ATL|               BOS|     VAA0AKEN|       PT8H10M|          0|         false|       false|    false|  213.02|    252.6|             2|               1462|             1650190200||16502...|    2022-04-17T06:10:...|           1650198000||16502...|  2022-04-17T07:20:...|                  ORD||BOS|                    ATL||ORD|      United||United|             UA||UA|        Embraer 175 (Enha...|               7800||8640|        600||862|     coach||coach|\n",
      "|cb345693479e84838...| 4/16/2022| 4/17/2022|            ATL|               BOS|          VNR|       PT5H39M|          0|         false|       false|    false|   183.0|   290.58|             0|               null|             1650187560||16501...|    2022-04-17T05:26:...|           1650194400||16502...|  2022-04-17T07:20:...|                  FLL||BOS|                    ATL||FLL|Spirit Airlines||...|             NK||NK|        AIRBUS INDUSTRIE ...|              6840||11100|      None||None|     coach||coach|\n",
      "|e1b95e4e6c997517f...| 4/16/2022| 4/17/2022|            ATL|               BOS|     KH0AUEY5|       PT2H38M|          0|         false|       false|     true|  265.58|    300.1|             7|                947|                       1650206700|    2022-04-17T10:45:...|                     1650216180|  2022-04-17T13:23:...|                       BOS|                         ATL|   American Airlines|                 AA|                        null|                     9480|             947|            coach|\n",
      "|eaf033a044596f0a7...| 4/16/2022| 4/17/2022|            ATL|               BOS|     L0AJZNN1|       PT4H17M|          0|         false|       false|    false|  260.47|   302.11|             1|                956|             1650233700||16502...|    2022-04-17T18:15:...|           1650238620||16502...|  2022-04-17T19:37:...|                  CLT||BOS|                    ATL||CLT|American Airlines...|             AA||AA|        Canadian Regional...|               4920||7620|        228||728|     coach||coach|\n",
      "|721d9a2f66fe479e7...| 4/16/2022| 4/17/2022|            ATL|               BOS|     L0AJZNN1|       PT4H36M|          0|         false|       false|    false|  260.47|   302.11|             1|                956|             1650207720||16502...|    2022-04-17T11:02:...|           1650212880||16502...|  2022-04-17T12:28:...|                  CLT||BOS|                    ATL||CLT|American Airlines...|             AA||AA|        Canadair Regional...|               5160||7860|        228||728|     coach||coach|\n",
      "|a9f012defb9227f69...| 4/16/2022| 4/17/2022|            ATL|               BOS|     L0AJZNN1|       PT4H45M|          0|         false|       false|    false|  260.47|   302.11|             1|                956|             1650226680||16502...|    2022-04-17T16:18:...|           1650230760||16502...|  2022-04-17T17:26:...|                  CLT||BOS|                    ATL||CLT|American Airlines...|             AA||AA|        Airbus A319||Boei...|               4080||7860|        228||728|     coach||coach|\n",
      "+--------------------+----------+----------+---------------+------------------+-------------+--------------+-----------+--------------+------------+---------+--------+---------+--------------+-------------------+---------------------------------+------------------------+-------------------------------+----------------------+--------------------------+----------------------------+--------------------+-------------------+----------------------------+-------------------------+----------------+-----------------+\n",
      "only showing top 20 rows\n",
      "\n"
     ]
    }
   ],
   "source": [
    "data.show()"
   ]
  },
  {
   "cell_type": "markdown",
   "id": "abb046d0",
   "metadata": {
    "id": "abb046d0"
   },
   "source": [
    "## Data Preprocessing & Cleaning"
   ]
  },
  {
   "cell_type": "markdown",
   "id": "8a2cfff6",
   "metadata": {
    "id": "8a2cfff6"
   },
   "source": [
    "* Change data type"
   ]
  },
  {
   "cell_type": "code",
   "execution_count": 26,
   "id": "10bb4be5",
   "metadata": {
    "id": "10bb4be5"
   },
   "outputs": [],
   "source": [
    "# from boolean to string\n",
    "data = data.withColumn('isBasicEconomy', F.col('isBasicEconomy').cast(types.StringType()))\n",
    "data = data.withColumn('isRefundable', F.col('isRefundable').cast(types.StringType()))\n",
    "data = data.withColumn('isNonStop', F.col('isNonStop').cast(types.StringType()))"
   ]
  },
  {
   "cell_type": "code",
   "execution_count": 27,
   "id": "ac127032",
   "metadata": {
    "id": "ac127032",
    "outputId": "89072d3d-1421-4a34-a1b6-74bfd8ec4fad"
   },
   "outputs": [
    {
     "name": "stdout",
     "output_type": "stream",
     "text": [
      "root\n",
      " |-- legId: string (nullable = true)\n",
      " |-- searchDate: string (nullable = true)\n",
      " |-- flightDate: string (nullable = true)\n",
      " |-- startingAirport: string (nullable = true)\n",
      " |-- destinationAirport: string (nullable = true)\n",
      " |-- fareBasisCode: string (nullable = true)\n",
      " |-- travelDuration: string (nullable = true)\n",
      " |-- elapsedDays: integer (nullable = true)\n",
      " |-- isBasicEconomy: string (nullable = true)\n",
      " |-- isRefundable: string (nullable = true)\n",
      " |-- isNonStop: string (nullable = true)\n",
      " |-- baseFare: double (nullable = true)\n",
      " |-- totalFare: double (nullable = true)\n",
      " |-- seatsRemaining: integer (nullable = true)\n",
      " |-- totalTravelDistance: integer (nullable = true)\n",
      " |-- segmentsDepartureTimeEpochSeconds: string (nullable = true)\n",
      " |-- segmentsDepartureTimeRaw: string (nullable = true)\n",
      " |-- segmentsArrivalTimeEpochSeconds: string (nullable = true)\n",
      " |-- segmentsArrivalTimeRaw: string (nullable = true)\n",
      " |-- segmentsArrivalAirportCode: string (nullable = true)\n",
      " |-- segmentsDepartureAirportCode: string (nullable = true)\n",
      " |-- segmentsAirlineName: string (nullable = true)\n",
      " |-- segmentsAirlineCode: string (nullable = true)\n",
      " |-- segmentsEquipmentDescription: string (nullable = true)\n",
      " |-- segmentsDurationInSeconds: string (nullable = true)\n",
      " |-- segmentsDistance: string (nullable = true)\n",
      " |-- segmentsCabinCode: string (nullable = true)\n",
      "\n"
     ]
    }
   ],
   "source": [
    "data.printSchema()"
   ]
  },
  {
   "cell_type": "markdown",
   "id": "a74ac6ae",
   "metadata": {
    "id": "a74ac6ae"
   },
   "source": [
    "### check for null values"
   ]
  },
  {
   "cell_type": "code",
   "execution_count": 28,
   "id": "41ec1f7a",
   "metadata": {
    "id": "41ec1f7a",
    "outputId": "0ba7d4a5-82b1-44cc-af93-051f0b4825ce"
   },
   "outputs": [
    {
     "name": "stdout",
     "output_type": "stream",
     "text": [
      "+-----+----------+----------+---------------+------------------+-------------+--------------+-----------+--------------+------------+---------+--------+---------+--------------+-------------------+---------------------------------+------------------------+-------------------------------+----------------------+--------------------------+----------------------------+-------------------+-------------------+----------------------------+-------------------------+----------------+-----------------+\n",
      "|legId|searchDate|flightDate|startingAirport|destinationAirport|fareBasisCode|travelDuration|elapsedDays|isBasicEconomy|isRefundable|isNonStop|baseFare|totalFare|seatsRemaining|totalTravelDistance|segmentsDepartureTimeEpochSeconds|segmentsDepartureTimeRaw|segmentsArrivalTimeEpochSeconds|segmentsArrivalTimeRaw|segmentsArrivalAirportCode|segmentsDepartureAirportCode|segmentsAirlineName|segmentsAirlineCode|segmentsEquipmentDescription|segmentsDurationInSeconds|segmentsDistance|segmentsCabinCode|\n",
      "+-----+----------+----------+---------------+------------------+-------------+--------------+-----------+--------------+------------+---------+--------+---------+--------------+-------------------+---------------------------------+------------------------+-------------------------------+----------------------+--------------------------+----------------------------+-------------------+-------------------+----------------------------+-------------------------+----------------+-----------------+\n",
      "|    0|         0|         0|              0|                 0|            0|             0|          0|             0|           0|        0|       0|        0|             0|              61860|                                0|                       0|                              0|                     0|                         0|                           0|                  0|                  0|                       18754|                        0|               0|                0|\n",
      "+-----+----------+----------+---------------+------------------+-------------+--------------+-----------+--------------+------------+---------+--------+---------+--------------+-------------------+---------------------------------+------------------------+-------------------------------+----------------------+--------------------------+----------------------------+-------------------+-------------------+----------------------------+-------------------------+----------------+-----------------+\n",
      "\n"
     ]
    }
   ],
   "source": [
    "# Find Count of Null, None, NaN of All DataFrame Columns\n",
    "from pyspark.sql.functions import col,isnan, when, count\n",
    "data.select([count(when(isnan(c) | col(c).isNull(), c)).alias(c) for c in data.columns]\n",
    "   ).show()"
   ]
  },
  {
   "cell_type": "markdown",
   "id": "93aa7476",
   "metadata": {
    "id": "93aa7476"
   },
   "source": [
    "-- --\n",
    "* Number of Null values in each columns\n",
    "  * totalTravelDistance| 61860\n",
    "\n",
    "* For columns [totalTravelDistance],[segmentsEquipmentDescription] we will drop the null values\n",
    "-- ---"
   ]
  },
  {
   "cell_type": "code",
   "execution_count": 29,
   "id": "17950c45",
   "metadata": {},
   "outputs": [],
   "source": [
    "# Drop the rest of null values \n",
    "data = data.na.drop()"
   ]
  },
  {
   "cell_type": "code",
   "execution_count": 31,
   "id": "c4782cbd",
   "metadata": {},
   "outputs": [
    {
     "name": "stdout",
     "output_type": "stream",
     "text": [
      "+-----+----------+----------+---------------+------------------+-------------+--------------+-----------+--------------+------------+---------+--------+---------+--------------+-------------------+---------------------------------+------------------------+-------------------------------+----------------------+--------------------------+----------------------------+-------------------+-------------------+----------------------------+-------------------------+----------------+-----------------+\n",
      "|legId|searchDate|flightDate|startingAirport|destinationAirport|fareBasisCode|travelDuration|elapsedDays|isBasicEconomy|isRefundable|isNonStop|baseFare|totalFare|seatsRemaining|totalTravelDistance|segmentsDepartureTimeEpochSeconds|segmentsDepartureTimeRaw|segmentsArrivalTimeEpochSeconds|segmentsArrivalTimeRaw|segmentsArrivalAirportCode|segmentsDepartureAirportCode|segmentsAirlineName|segmentsAirlineCode|segmentsEquipmentDescription|segmentsDurationInSeconds|segmentsDistance|segmentsCabinCode|\n",
      "+-----+----------+----------+---------------+------------------+-------------+--------------+-----------+--------------+------------+---------+--------+---------+--------------+-------------------+---------------------------------+------------------------+-------------------------------+----------------------+--------------------------+----------------------------+-------------------+-------------------+----------------------------+-------------------------+----------------+-----------------+\n",
      "|    0|         0|         0|              0|                 0|            0|             0|          0|             0|           0|        0|       0|        0|             0|                  0|                                0|                       0|                              0|                     0|                         0|                           0|                  0|                  0|                           0|                        0|               0|                0|\n",
      "+-----+----------+----------+---------------+------------------+-------------+--------------+-----------+--------------+------------+---------+--------+---------+--------------+-------------------+---------------------------------+------------------------+-------------------------------+----------------------+--------------------------+----------------------------+-------------------+-------------------+----------------------------+-------------------------+----------------+-----------------+\n",
      "\n"
     ]
    }
   ],
   "source": [
    "# check again \n",
    "from pyspark.sql.functions import col,isnan, when, count\n",
    "data.select([count(when(isnan(c) | col(c).isNull(), c)).alias(c) for c in data.columns]\n",
    "   ).show()"
   ]
  },
  {
   "cell_type": "markdown",
   "id": "fdf41e11",
   "metadata": {
    "id": "fdf41e11"
   },
   "source": [
    "* drop useless columns"
   ]
  },
  {
   "cell_type": "code",
   "execution_count": 33,
   "id": "8e982e37",
   "metadata": {
    "id": "8e982e37"
   },
   "outputs": [],
   "source": [
    "data = data.drop(*['legId', 'fareBasisCode', 'segmentsAirlineCode','travelDuration',\\\n",
    "                   'searchDate','segmentsEquipmentDescription'])"
   ]
  },
  {
   "cell_type": "markdown",
   "id": "40e01a2b",
   "metadata": {},
   "source": [
    "### Convert data frame to pandas to do extra preprocessing"
   ]
  },
  {
   "cell_type": "code",
   "execution_count": 35,
   "id": "cb11af25",
   "metadata": {},
   "outputs": [
    {
     "name": "stdout",
     "output_type": "stream",
     "text": [
      "       flightDate startingAirport destinationAirport  elapsedDays  \\\n",
      "0       4/17/2022             ATL                BOS            0   \n",
      "1       4/17/2022             ATL                BOS            0   \n",
      "2       4/17/2022             ATL                BOS            0   \n",
      "3       4/17/2022             ATL                BOS            0   \n",
      "4       4/17/2022             ATL                BOS            0   \n",
      "...           ...             ...                ...          ...   \n",
      "921945  5/30/2022             ORD                SFO            0   \n",
      "921946  5/30/2022             ORD                SFO            0   \n",
      "921947  5/30/2022             ORD                SFO            0   \n",
      "921948  5/30/2022             ORD                SFO            0   \n",
      "921949  5/30/2022             ORD                SFO            0   \n",
      "\n",
      "       isBasicEconomy isRefundable isNonStop  baseFare  totalFare  \\\n",
      "0               false        false      true    217.67      248.6   \n",
      "1               false        false      true    217.67      248.6   \n",
      "2               false        false      true    217.67      248.6   \n",
      "3               false        false      true    217.67      248.6   \n",
      "4               false        false      true    217.67      248.6   \n",
      "...               ...          ...       ...       ...        ...   \n",
      "921945          false        false      true    559.07      615.6   \n",
      "921946          false        false      true    729.30      798.6   \n",
      "921947          false        false      true    729.30      798.6   \n",
      "921948          false        false      true    989.77     1078.6   \n",
      "921949          false        false      true   1408.37     1528.6   \n",
      "\n",
      "        seatsRemaining  ...  segmentsDepartureTimeEpochSeconds  \\\n",
      "0                    9  ...                         1650214620   \n",
      "1                    4  ...                         1650191400   \n",
      "2                    9  ...                         1650209700   \n",
      "3                    8  ...                         1650218340   \n",
      "4                    9  ...                         1650203940   \n",
      "...                ...  ...                                ...   \n",
      "921945               9  ...                         1653924900   \n",
      "921946               9  ...                         1653932700   \n",
      "921947               8  ...                         1653953100   \n",
      "921948               5  ...                         1653938400   \n",
      "921949               5  ...                         1653912600   \n",
      "\n",
      "             segmentsDepartureTimeRaw segmentsArrivalTimeEpochSeconds  \\\n",
      "0       2022-04-17T12:57:00.000-04:00                      1650223560   \n",
      "1       2022-04-17T06:30:00.000-04:00                      1650200400   \n",
      "2       2022-04-17T11:35:00.000-04:00                      1650218700   \n",
      "3       2022-04-17T13:59:00.000-04:00                      1650227460   \n",
      "4       2022-04-17T09:59:00.000-04:00                      1650213180   \n",
      "...                               ...                             ...   \n",
      "921945  2022-05-30T10:35:00.000-05:00                      1653942240   \n",
      "921946  2022-05-30T12:45:00.000-05:00                      1653949020   \n",
      "921947  2022-05-30T18:25:00.000-05:00                      1653970260   \n",
      "921948  2022-05-30T14:20:00.000-05:00                      1653955500   \n",
      "921949  2022-05-30T07:10:00.000-05:00                      1653929220   \n",
      "\n",
      "               segmentsArrivalTimeRaw segmentsArrivalAirportCode  \\\n",
      "0       2022-04-17T15:26:00.000-04:00                        BOS   \n",
      "1       2022-04-17T09:00:00.000-04:00                        BOS   \n",
      "2       2022-04-17T14:05:00.000-04:00                        BOS   \n",
      "3       2022-04-17T16:31:00.000-04:00                        BOS   \n",
      "4       2022-04-17T12:33:00.000-04:00                        BOS   \n",
      "...                               ...                        ...   \n",
      "921945  2022-05-30T13:24:00.000-07:00                        SFO   \n",
      "921946  2022-05-30T15:17:00.000-07:00                        SFO   \n",
      "921947  2022-05-30T21:11:00.000-07:00                        SFO   \n",
      "921948  2022-05-30T17:05:00.000-07:00                        SFO   \n",
      "921949  2022-05-30T09:47:00.000-07:00                        SFO   \n",
      "\n",
      "       segmentsDepartureAirportCode segmentsAirlineName  \\\n",
      "0                               ATL               Delta   \n",
      "1                               ATL               Delta   \n",
      "2                               ATL               Delta   \n",
      "3                               ATL               Delta   \n",
      "4                               ATL               Delta   \n",
      "...                             ...                 ...   \n",
      "921945                          ORD              United   \n",
      "921946                          ORD              United   \n",
      "921947                          ORD              United   \n",
      "921948                          ORD              United   \n",
      "921949                          ORD              United   \n",
      "\n",
      "       segmentsDurationInSeconds segmentsDistance segmentsCabinCode  \n",
      "0                           8940              947             coach  \n",
      "1                           9000              947             coach  \n",
      "2                           9000              947             coach  \n",
      "3                           9120              947             coach  \n",
      "4                           9240              947             coach  \n",
      "...                          ...              ...               ...  \n",
      "921945                     17340             1847             coach  \n",
      "921946                     16320             1847             coach  \n",
      "921947                     17160             1847             coach  \n",
      "921948                     17100             1847     premium coach  \n",
      "921949                     16620             1847             coach  \n",
      "\n",
      "[921950 rows x 21 columns]\n"
     ]
    }
   ],
   "source": [
    "df = data.toPandas()\n",
    "print(df)"
   ]
  },
  {
   "cell_type": "markdown",
   "id": "af1c4f6a",
   "metadata": {},
   "source": [
    "## <font color= '51b4e3'> Check the Outliers "
   ]
  },
  {
   "cell_type": "code",
   "execution_count": 36,
   "id": "7bd80230",
   "metadata": {},
   "outputs": [
    {
     "data": {
      "text/plain": [
       "(array([0, 1, 2, 3, 4]),\n",
       " [Text(0, 0, 'elapsedDays'),\n",
       "  Text(1, 0, 'baseFare'),\n",
       "  Text(2, 0, 'totalFare'),\n",
       "  Text(3, 0, 'seatsRemaining'),\n",
       "  Text(4, 0, 'totalTravelDistance')])"
      ]
     },
     "execution_count": 36,
     "metadata": {},
     "output_type": "execute_result"
    },
    {
     "data": {
      "image/png": "[encoded data removed]",
      "text/plain": [
       "<Figure size 720x504 with 1 Axes>"
      ]
     },
     "metadata": {
      "needs_background": "light"
     },
     "output_type": "display_data"
    }
   ],
   "source": [
    "# outlire in dataset\n",
    "plt.figure(figsize=(10,7))\n",
    "sns.boxplot(data=df)\n",
    "plt.xticks(rotation=90)"
   ]
  },
  {
   "cell_type": "markdown",
   "id": "3ad9f45b",
   "metadata": {},
   "source": [
    "## <font color= '51b4e3'> Remove the outlier from total fare column "
   ]
  },
  {
   "cell_type": "code",
   "execution_count": 37,
   "id": "a2d435f4",
   "metadata": {},
   "outputs": [
    {
     "data": {
      "text/plain": [
       "{'whiskers': [<matplotlib.lines.Line2D at 0x25b9d437070>,\n",
       "  <matplotlib.lines.Line2D at 0x25b9d437340>],\n",
       " 'caps': [<matplotlib.lines.Line2D at 0x25b9d437610>,\n",
       "  <matplotlib.lines.Line2D at 0x25b9d4378e0>],\n",
       " 'boxes': [<matplotlib.lines.Line2D at 0x25b9d468d60>],\n",
       " 'medians': [<matplotlib.lines.Line2D at 0x25b9d437bb0>],\n",
       " 'fliers': [<matplotlib.lines.Line2D at 0x25b9d437e80>],\n",
       " 'means': []}"
      ]
     },
     "execution_count": 37,
     "metadata": {},
     "output_type": "execute_result"
    },
    {
     "data": {
      "image/png": "[encoded data removed]",
      "text/plain": [
       "<Figure size 432x288 with 1 Axes>"
      ]
     },
     "metadata": {
      "needs_background": "light"
     },
     "output_type": "display_data"
    }
   ],
   "source": [
    "df = df[df.totalFare <= 700]\n",
    "plt.boxplot(df.totalFare)"
   ]
  },
  {
   "cell_type": "markdown",
   "id": "ffb5c27c",
   "metadata": {},
   "source": [
    "## <font color= '51b4e3'> Remove the outlier from base fare column"
   ]
  },
  {
   "cell_type": "code",
   "execution_count": 38,
   "id": "3ec7373c",
   "metadata": {},
   "outputs": [
    {
     "data": {
      "text/plain": [
       "{'whiskers': [<matplotlib.lines.Line2D at 0x25b965af580>,\n",
       "  <matplotlib.lines.Line2D at 0x25b965af850>],\n",
       " 'caps': [<matplotlib.lines.Line2D at 0x25b965afb20>,\n",
       "  <matplotlib.lines.Line2D at 0x25b965afdf0>],\n",
       " 'boxes': [<matplotlib.lines.Line2D at 0x25b965af2b0>],\n",
       " 'medians': [<matplotlib.lines.Line2D at 0x25b96598100>],\n",
       " 'fliers': [<matplotlib.lines.Line2D at 0x25b965983d0>],\n",
       " 'means': []}"
      ]
     },
     "execution_count": 38,
     "metadata": {},
     "output_type": "execute_result"
    },
    {
     "data": {
      "image/png": "[encoded data removed]",
      "text/plain": [
       "<Figure size 432x288 with 1 Axes>"
      ]
     },
     "metadata": {
      "needs_background": "light"
     },
     "output_type": "display_data"
    }
   ],
   "source": [
    "df = df[df.baseFare <= 700]\n",
    "plt.boxplot(df.baseFare)"
   ]
  },
  {
   "cell_type": "markdown",
   "id": "a907c411",
   "metadata": {},
   "source": [
    "## <font color= '51b4e3'> Dataset without outliers "
   ]
  },
  {
   "cell_type": "code",
   "execution_count": 39,
   "id": "5afe5505",
   "metadata": {},
   "outputs": [
    {
     "data": {
      "text/plain": [
       "(array([0, 1, 2, 3, 4]),\n",
       " [Text(0, 0, 'elapsedDays'),\n",
       "  Text(1, 0, 'baseFare'),\n",
       "  Text(2, 0, 'totalFare'),\n",
       "  Text(3, 0, 'seatsRemaining'),\n",
       "  Text(4, 0, 'totalTravelDistance')])"
      ]
     },
     "execution_count": 39,
     "metadata": {},
     "output_type": "execute_result"
    },
    {
     "data": {
      "image/png": "[encoded data removed]",
      "text/plain": [
       "<Figure size 720x504 with 1 Axes>"
      ]
     },
     "metadata": {
      "needs_background": "light"
     },
     "output_type": "display_data"
    }
   ],
   "source": [
    "# outlire in dataset\n",
    "plt.figure(figsize=(10,7))\n",
    "sns.boxplot(data=df)\n",
    "plt.xticks(rotation=90)"
   ]
  },
  {
   "cell_type": "markdown",
   "id": "25b68ab3",
   "metadata": {},
   "source": [
    "## <font color= '51b4e3'> Removing the noisy data by splitting the data in some columns that contain more than two values"
   ]
  },
  {
   "cell_type": "code",
   "execution_count": 40,
   "id": "31a673ce",
   "metadata": {},
   "outputs": [],
   "source": [
    "# new data frame with split value columns\n",
    "new = df[\"segmentsDepartureTimeEpochSeconds\"].str.split(\"|\", expand = True)\n",
    "df[\"segmentsDepartureTimeEpochSeconds\"]= new[0]\n",
    "\n",
    "new = df[\"segmentsDepartureTimeRaw\"].str.split(\"|\", expand = True)\n",
    "df[\"segmentsDepartureTimeRaw\"]= new[0]\n",
    "\n",
    "new = df[\"segmentsArrivalTimeEpochSeconds\"].str.split(\"|\", expand = True)\n",
    "df[\"segmentsArrivalTimeEpochSeconds\"]= new[0]\n",
    "\n",
    "new = df[\"segmentsArrivalTimeRaw\"].str.split(\"|\", expand = True)\n",
    "df[\"segmentsArrivalTimeRaw\"]= new[0]\n",
    "\n",
    "new = df[\"segmentsArrivalAirportCode\"].str.split(\"|\", expand = True)\n",
    "df[\"segmentsArrivalAirportCode\"]= new[0]\n",
    "\n",
    "new = df[\"segmentsDepartureAirportCode\"].str.split(\"|\", expand = True)\n",
    "df[\"segmentsDepartureAirportCode\"]= new[0]\n",
    "\n",
    "new = df[\"segmentsAirlineName\"].str.split(\"|\", expand = True)\n",
    "df[\"segmentsAirlineName\"]= new[0]\n",
    "\n",
    "new = df[\"segmentsDurationInSeconds\"].str.split(\"|\", expand = True)\n",
    "df[\"segmentsDurationInSeconds\"]= new[0]\n",
    "\n",
    "new = df[\"segmentsDistance\"].str.split(\"|\", expand = True)\n",
    "df[\"segmentsDistance\"]= new[0]\n",
    "\n",
    "new = df[\"segmentsCabinCode\"].str.split(\"|\", expand = True)\n",
    "df[\"segmentsCabinCode\"]= new[0]"
   ]
  },
  {
   "cell_type": "code",
   "execution_count": 41,
   "id": "d9399467",
   "metadata": {},
   "outputs": [
    {
     "data": {
      "text/html": [
       "<div>\n",
       "<style scoped>\n",
       "    .dataframe tbody tr th:only-of-type {\n",
       "        vertical-align: middle;\n",
       "    }\n",
       "\n",
       "    .dataframe tbody tr th {\n",
       "        vertical-align: top;\n",
       "    }\n",
       "\n",
       "    .dataframe thead th {\n",
       "        text-align: right;\n",
       "    }\n",
       "</style>\n",
       "<table border=\"1\" class=\"dataframe\">\n",
       "  <thead>\n",
       "    <tr style=\"text-align: right;\">\n",
       "      <th></th>\n",
       "      <th>flightDate</th>\n",
       "      <th>startingAirport</th>\n",
       "      <th>destinationAirport</th>\n",
       "      <th>elapsedDays</th>\n",
       "      <th>isBasicEconomy</th>\n",
       "      <th>isRefundable</th>\n",
       "      <th>isNonStop</th>\n",
       "      <th>baseFare</th>\n",
       "      <th>totalFare</th>\n",
       "      <th>seatsRemaining</th>\n",
       "      <th>...</th>\n",
       "      <th>segmentsDepartureTimeEpochSeconds</th>\n",
       "      <th>segmentsDepartureTimeRaw</th>\n",
       "      <th>segmentsArrivalTimeEpochSeconds</th>\n",
       "      <th>segmentsArrivalTimeRaw</th>\n",
       "      <th>segmentsArrivalAirportCode</th>\n",
       "      <th>segmentsDepartureAirportCode</th>\n",
       "      <th>segmentsAirlineName</th>\n",
       "      <th>segmentsDurationInSeconds</th>\n",
       "      <th>segmentsDistance</th>\n",
       "      <th>segmentsCabinCode</th>\n",
       "    </tr>\n",
       "  </thead>\n",
       "  <tbody>\n",
       "    <tr>\n",
       "      <th>921936</th>\n",
       "      <td>5/30/2022</td>\n",
       "      <td>ORD</td>\n",
       "      <td>SFO</td>\n",
       "      <td>0</td>\n",
       "      <td>false</td>\n",
       "      <td>false</td>\n",
       "      <td>true</td>\n",
       "      <td>431.62</td>\n",
       "      <td>478.59</td>\n",
       "      <td>7</td>\n",
       "      <td>...</td>\n",
       "      <td>1653948900</td>\n",
       "      <td>2022-05-30T17:15:00.000-05:00</td>\n",
       "      <td>1653965640</td>\n",
       "      <td>2022-05-30T19:54:00.000-07:00</td>\n",
       "      <td>SFO</td>\n",
       "      <td>ORD</td>\n",
       "      <td>American Airlines</td>\n",
       "      <td>16740</td>\n",
       "      <td>1847</td>\n",
       "      <td>coach</td>\n",
       "    </tr>\n",
       "    <tr>\n",
       "      <th>921937</th>\n",
       "      <td>5/30/2022</td>\n",
       "      <td>ORD</td>\n",
       "      <td>SFO</td>\n",
       "      <td>0</td>\n",
       "      <td>false</td>\n",
       "      <td>false</td>\n",
       "      <td>true</td>\n",
       "      <td>431.62</td>\n",
       "      <td>478.59</td>\n",
       "      <td>7</td>\n",
       "      <td>...</td>\n",
       "      <td>1653917400</td>\n",
       "      <td>2022-05-30T08:30:00.000-05:00</td>\n",
       "      <td>1653934200</td>\n",
       "      <td>2022-05-30T11:10:00.000-07:00</td>\n",
       "      <td>SFO</td>\n",
       "      <td>ORD</td>\n",
       "      <td>American Airlines</td>\n",
       "      <td>16800</td>\n",
       "      <td>1847</td>\n",
       "      <td>coach</td>\n",
       "    </tr>\n",
       "    <tr>\n",
       "      <th>921938</th>\n",
       "      <td>5/30/2022</td>\n",
       "      <td>ORD</td>\n",
       "      <td>SFO</td>\n",
       "      <td>0</td>\n",
       "      <td>false</td>\n",
       "      <td>false</td>\n",
       "      <td>true</td>\n",
       "      <td>459.53</td>\n",
       "      <td>508.60</td>\n",
       "      <td>7</td>\n",
       "      <td>...</td>\n",
       "      <td>1653947400</td>\n",
       "      <td>2022-05-30T16:50:00.000-05:00</td>\n",
       "      <td>1653964200</td>\n",
       "      <td>2022-05-30T19:30:00.000-07:00</td>\n",
       "      <td>SFO</td>\n",
       "      <td>ORD</td>\n",
       "      <td>Alaska Airlines</td>\n",
       "      <td>16800</td>\n",
       "      <td>1847</td>\n",
       "      <td>coach</td>\n",
       "    </tr>\n",
       "    <tr>\n",
       "      <th>921939</th>\n",
       "      <td>5/30/2022</td>\n",
       "      <td>ORD</td>\n",
       "      <td>SFO</td>\n",
       "      <td>0</td>\n",
       "      <td>false</td>\n",
       "      <td>false</td>\n",
       "      <td>true</td>\n",
       "      <td>478.14</td>\n",
       "      <td>528.60</td>\n",
       "      <td>9</td>\n",
       "      <td>...</td>\n",
       "      <td>1653918900</td>\n",
       "      <td>2022-05-30T08:55:00.000-05:00</td>\n",
       "      <td>1653935760</td>\n",
       "      <td>2022-05-30T11:36:00.000-07:00</td>\n",
       "      <td>SFO</td>\n",
       "      <td>ORD</td>\n",
       "      <td>United</td>\n",
       "      <td>16860</td>\n",
       "      <td>1847</td>\n",
       "      <td>coach</td>\n",
       "    </tr>\n",
       "    <tr>\n",
       "      <th>921940</th>\n",
       "      <td>5/30/2022</td>\n",
       "      <td>ORD</td>\n",
       "      <td>SFO</td>\n",
       "      <td>0</td>\n",
       "      <td>false</td>\n",
       "      <td>false</td>\n",
       "      <td>true</td>\n",
       "      <td>496.74</td>\n",
       "      <td>548.60</td>\n",
       "      <td>2</td>\n",
       "      <td>...</td>\n",
       "      <td>1653935580</td>\n",
       "      <td>2022-05-30T13:33:00.000-05:00</td>\n",
       "      <td>1653952380</td>\n",
       "      <td>2022-05-30T16:13:00.000-07:00</td>\n",
       "      <td>SFO</td>\n",
       "      <td>ORD</td>\n",
       "      <td>American Airlines</td>\n",
       "      <td>16800</td>\n",
       "      <td>1847</td>\n",
       "      <td>coach</td>\n",
       "    </tr>\n",
       "    <tr>\n",
       "      <th>921941</th>\n",
       "      <td>5/30/2022</td>\n",
       "      <td>ORD</td>\n",
       "      <td>SFO</td>\n",
       "      <td>0</td>\n",
       "      <td>false</td>\n",
       "      <td>false</td>\n",
       "      <td>false</td>\n",
       "      <td>533.95</td>\n",
       "      <td>597.60</td>\n",
       "      <td>7</td>\n",
       "      <td>...</td>\n",
       "      <td>1653906360</td>\n",
       "      <td>2022-05-30T05:26:00.000-05:00</td>\n",
       "      <td>1653915900</td>\n",
       "      <td>2022-05-30T07:05:00.000-06:00</td>\n",
       "      <td>DEN</td>\n",
       "      <td>ORD</td>\n",
       "      <td>United</td>\n",
       "      <td>9540</td>\n",
       "      <td>903</td>\n",
       "      <td>coach</td>\n",
       "    </tr>\n",
       "    <tr>\n",
       "      <th>921942</th>\n",
       "      <td>5/30/2022</td>\n",
       "      <td>ORD</td>\n",
       "      <td>SFO</td>\n",
       "      <td>0</td>\n",
       "      <td>false</td>\n",
       "      <td>false</td>\n",
       "      <td>true</td>\n",
       "      <td>559.07</td>\n",
       "      <td>615.60</td>\n",
       "      <td>9</td>\n",
       "      <td>...</td>\n",
       "      <td>1653957300</td>\n",
       "      <td>2022-05-30T19:35:00.000-05:00</td>\n",
       "      <td>1653973200</td>\n",
       "      <td>2022-05-30T22:00:00.000-07:00</td>\n",
       "      <td>SFO</td>\n",
       "      <td>ORD</td>\n",
       "      <td>United</td>\n",
       "      <td>15900</td>\n",
       "      <td>1847</td>\n",
       "      <td>coach</td>\n",
       "    </tr>\n",
       "    <tr>\n",
       "      <th>921943</th>\n",
       "      <td>5/30/2022</td>\n",
       "      <td>ORD</td>\n",
       "      <td>SFO</td>\n",
       "      <td>0</td>\n",
       "      <td>false</td>\n",
       "      <td>false</td>\n",
       "      <td>true</td>\n",
       "      <td>559.07</td>\n",
       "      <td>615.60</td>\n",
       "      <td>9</td>\n",
       "      <td>...</td>\n",
       "      <td>1653945120</td>\n",
       "      <td>2022-05-30T16:12:00.000-05:00</td>\n",
       "      <td>1653961800</td>\n",
       "      <td>2022-05-30T18:50:00.000-07:00</td>\n",
       "      <td>SFO</td>\n",
       "      <td>ORD</td>\n",
       "      <td>United</td>\n",
       "      <td>16680</td>\n",
       "      <td>1847</td>\n",
       "      <td>coach</td>\n",
       "    </tr>\n",
       "    <tr>\n",
       "      <th>921944</th>\n",
       "      <td>5/30/2022</td>\n",
       "      <td>ORD</td>\n",
       "      <td>SFO</td>\n",
       "      <td>0</td>\n",
       "      <td>false</td>\n",
       "      <td>false</td>\n",
       "      <td>true</td>\n",
       "      <td>559.07</td>\n",
       "      <td>615.60</td>\n",
       "      <td>9</td>\n",
       "      <td>...</td>\n",
       "      <td>1653963360</td>\n",
       "      <td>2022-05-30T21:16:00.000-05:00</td>\n",
       "      <td>1653980340</td>\n",
       "      <td>2022-05-30T23:59:00.000-07:00</td>\n",
       "      <td>SFO</td>\n",
       "      <td>ORD</td>\n",
       "      <td>United</td>\n",
       "      <td>16980</td>\n",
       "      <td>1847</td>\n",
       "      <td>coach</td>\n",
       "    </tr>\n",
       "    <tr>\n",
       "      <th>921945</th>\n",
       "      <td>5/30/2022</td>\n",
       "      <td>ORD</td>\n",
       "      <td>SFO</td>\n",
       "      <td>0</td>\n",
       "      <td>false</td>\n",
       "      <td>false</td>\n",
       "      <td>true</td>\n",
       "      <td>559.07</td>\n",
       "      <td>615.60</td>\n",
       "      <td>9</td>\n",
       "      <td>...</td>\n",
       "      <td>1653924900</td>\n",
       "      <td>2022-05-30T10:35:00.000-05:00</td>\n",
       "      <td>1653942240</td>\n",
       "      <td>2022-05-30T13:24:00.000-07:00</td>\n",
       "      <td>SFO</td>\n",
       "      <td>ORD</td>\n",
       "      <td>United</td>\n",
       "      <td>17340</td>\n",
       "      <td>1847</td>\n",
       "      <td>coach</td>\n",
       "    </tr>\n",
       "  </tbody>\n",
       "</table>\n",
       "<p>10 rows × 21 columns</p>\n",
       "</div>"
      ],
      "text/plain": [
       "       flightDate startingAirport destinationAirport  elapsedDays  \\\n",
       "921936  5/30/2022             ORD                SFO            0   \n",
       "921937  5/30/2022             ORD                SFO            0   \n",
       "921938  5/30/2022             ORD                SFO            0   \n",
       "921939  5/30/2022             ORD                SFO            0   \n",
       "921940  5/30/2022             ORD                SFO            0   \n",
       "921941  5/30/2022             ORD                SFO            0   \n",
       "921942  5/30/2022             ORD                SFO            0   \n",
       "921943  5/30/2022             ORD                SFO            0   \n",
       "921944  5/30/2022             ORD                SFO            0   \n",
       "921945  5/30/2022             ORD                SFO            0   \n",
       "\n",
       "       isBasicEconomy isRefundable isNonStop  baseFare  totalFare  \\\n",
       "921936          false        false      true    431.62     478.59   \n",
       "921937          false        false      true    431.62     478.59   \n",
       "921938          false        false      true    459.53     508.60   \n",
       "921939          false        false      true    478.14     528.60   \n",
       "921940          false        false      true    496.74     548.60   \n",
       "921941          false        false     false    533.95     597.60   \n",
       "921942          false        false      true    559.07     615.60   \n",
       "921943          false        false      true    559.07     615.60   \n",
       "921944          false        false      true    559.07     615.60   \n",
       "921945          false        false      true    559.07     615.60   \n",
       "\n",
       "        seatsRemaining  ...  segmentsDepartureTimeEpochSeconds  \\\n",
       "921936               7  ...                         1653948900   \n",
       "921937               7  ...                         1653917400   \n",
       "921938               7  ...                         1653947400   \n",
       "921939               9  ...                         1653918900   \n",
       "921940               2  ...                         1653935580   \n",
       "921941               7  ...                         1653906360   \n",
       "921942               9  ...                         1653957300   \n",
       "921943               9  ...                         1653945120   \n",
       "921944               9  ...                         1653963360   \n",
       "921945               9  ...                         1653924900   \n",
       "\n",
       "             segmentsDepartureTimeRaw segmentsArrivalTimeEpochSeconds  \\\n",
       "921936  2022-05-30T17:15:00.000-05:00                      1653965640   \n",
       "921937  2022-05-30T08:30:00.000-05:00                      1653934200   \n",
       "921938  2022-05-30T16:50:00.000-05:00                      1653964200   \n",
       "921939  2022-05-30T08:55:00.000-05:00                      1653935760   \n",
       "921940  2022-05-30T13:33:00.000-05:00                      1653952380   \n",
       "921941  2022-05-30T05:26:00.000-05:00                      1653915900   \n",
       "921942  2022-05-30T19:35:00.000-05:00                      1653973200   \n",
       "921943  2022-05-30T16:12:00.000-05:00                      1653961800   \n",
       "921944  2022-05-30T21:16:00.000-05:00                      1653980340   \n",
       "921945  2022-05-30T10:35:00.000-05:00                      1653942240   \n",
       "\n",
       "               segmentsArrivalTimeRaw segmentsArrivalAirportCode  \\\n",
       "921936  2022-05-30T19:54:00.000-07:00                        SFO   \n",
       "921937  2022-05-30T11:10:00.000-07:00                        SFO   \n",
       "921938  2022-05-30T19:30:00.000-07:00                        SFO   \n",
       "921939  2022-05-30T11:36:00.000-07:00                        SFO   \n",
       "921940  2022-05-30T16:13:00.000-07:00                        SFO   \n",
       "921941  2022-05-30T07:05:00.000-06:00                        DEN   \n",
       "921942  2022-05-30T22:00:00.000-07:00                        SFO   \n",
       "921943  2022-05-30T18:50:00.000-07:00                        SFO   \n",
       "921944  2022-05-30T23:59:00.000-07:00                        SFO   \n",
       "921945  2022-05-30T13:24:00.000-07:00                        SFO   \n",
       "\n",
       "       segmentsDepartureAirportCode segmentsAirlineName  \\\n",
       "921936                          ORD   American Airlines   \n",
       "921937                          ORD   American Airlines   \n",
       "921938                          ORD     Alaska Airlines   \n",
       "921939                          ORD              United   \n",
       "921940                          ORD   American Airlines   \n",
       "921941                          ORD              United   \n",
       "921942                          ORD              United   \n",
       "921943                          ORD              United   \n",
       "921944                          ORD              United   \n",
       "921945                          ORD              United   \n",
       "\n",
       "       segmentsDurationInSeconds segmentsDistance segmentsCabinCode  \n",
       "921936                     16740             1847             coach  \n",
       "921937                     16800             1847             coach  \n",
       "921938                     16800             1847             coach  \n",
       "921939                     16860             1847             coach  \n",
       "921940                     16800             1847             coach  \n",
       "921941                      9540              903             coach  \n",
       "921942                     15900             1847             coach  \n",
       "921943                     16680             1847             coach  \n",
       "921944                     16980             1847             coach  \n",
       "921945                     17340             1847             coach  \n",
       "\n",
       "[10 rows x 21 columns]"
      ]
     },
     "execution_count": 41,
     "metadata": {},
     "output_type": "execute_result"
    }
   ],
   "source": [
    "df.tail(10)"
   ]
  },
  {
   "cell_type": "markdown",
   "id": "39fcf6a9",
   "metadata": {},
   "source": [
    "## <font color= '51b4e3'> Some columns contain both date and time, however, we need only the time, so we did split the data according to the time "
   ]
  },
  {
   "cell_type": "code",
   "execution_count": 42,
   "id": "dd3af9bc",
   "metadata": {},
   "outputs": [],
   "source": [
    "new = df[\"segmentsDepartureTimeRaw\"].str.split(\"T\", expand = True)\n",
    "df[\"segmentsDepartureTimeRaw\"]= new[1]\n",
    "new = df[\"segmentsArrivalTimeRaw\"].str.split(\"T\", expand = True)\n",
    "df[\"segmentsArrivalTimeRaw\"]= new[1]"
   ]
  },
  {
   "cell_type": "markdown",
   "id": "64473dcc",
   "metadata": {},
   "source": [
    "## <font color= '51b4e3'> Convert the columns contain the seconds into hours "
   ]
  },
  {
   "cell_type": "code",
   "execution_count": 43,
   "id": "a1f5e941",
   "metadata": {},
   "outputs": [],
   "source": [
    "df['segmentsArrivalTimeEpochInhours'] = pd.to_datetime(df[\"segmentsArrivalTimeEpochSeconds\"], unit='s').dt.strftime(\"%H\")\n",
    "df['segmentsDepartureTimeEpochInhours '] = pd.to_datetime(df[\"segmentsDepartureTimeEpochSeconds\"], unit='s').dt.strftime(\"%H\")\n",
    "df['segmentsDurationInhours '] = pd.to_datetime(df[\"segmentsDurationInSeconds\"], unit='s').dt.strftime(\"%H\")"
   ]
  },
  {
   "cell_type": "code",
   "execution_count": 44,
   "id": "f14dfb50",
   "metadata": {},
   "outputs": [
    {
     "data": {
      "text/html": [
       "<div>\n",
       "<style scoped>\n",
       "    .dataframe tbody tr th:only-of-type {\n",
       "        vertical-align: middle;\n",
       "    }\n",
       "\n",
       "    .dataframe tbody tr th {\n",
       "        vertical-align: top;\n",
       "    }\n",
       "\n",
       "    .dataframe thead th {\n",
       "        text-align: right;\n",
       "    }\n",
       "</style>\n",
       "<table border=\"1\" class=\"dataframe\">\n",
       "  <thead>\n",
       "    <tr style=\"text-align: right;\">\n",
       "      <th></th>\n",
       "      <th>flightDate</th>\n",
       "      <th>startingAirport</th>\n",
       "      <th>destinationAirport</th>\n",
       "      <th>elapsedDays</th>\n",
       "      <th>isBasicEconomy</th>\n",
       "      <th>isRefundable</th>\n",
       "      <th>isNonStop</th>\n",
       "      <th>baseFare</th>\n",
       "      <th>totalFare</th>\n",
       "      <th>seatsRemaining</th>\n",
       "      <th>...</th>\n",
       "      <th>segmentsArrivalTimeRaw</th>\n",
       "      <th>segmentsArrivalAirportCode</th>\n",
       "      <th>segmentsDepartureAirportCode</th>\n",
       "      <th>segmentsAirlineName</th>\n",
       "      <th>segmentsDurationInSeconds</th>\n",
       "      <th>segmentsDistance</th>\n",
       "      <th>segmentsCabinCode</th>\n",
       "      <th>segmentsArrivalTimeEpochInhours</th>\n",
       "      <th>segmentsDepartureTimeEpochInhours</th>\n",
       "      <th>segmentsDurationInhours</th>\n",
       "    </tr>\n",
       "  </thead>\n",
       "  <tbody>\n",
       "    <tr>\n",
       "      <th>921936</th>\n",
       "      <td>5/30/2022</td>\n",
       "      <td>ORD</td>\n",
       "      <td>SFO</td>\n",
       "      <td>0</td>\n",
       "      <td>false</td>\n",
       "      <td>false</td>\n",
       "      <td>true</td>\n",
       "      <td>431.62</td>\n",
       "      <td>478.59</td>\n",
       "      <td>7</td>\n",
       "      <td>...</td>\n",
       "      <td>19:54:00.000-07:00</td>\n",
       "      <td>SFO</td>\n",
       "      <td>ORD</td>\n",
       "      <td>American Airlines</td>\n",
       "      <td>16740</td>\n",
       "      <td>1847</td>\n",
       "      <td>coach</td>\n",
       "      <td>02</td>\n",
       "      <td>22</td>\n",
       "      <td>04</td>\n",
       "    </tr>\n",
       "    <tr>\n",
       "      <th>921937</th>\n",
       "      <td>5/30/2022</td>\n",
       "      <td>ORD</td>\n",
       "      <td>SFO</td>\n",
       "      <td>0</td>\n",
       "      <td>false</td>\n",
       "      <td>false</td>\n",
       "      <td>true</td>\n",
       "      <td>431.62</td>\n",
       "      <td>478.59</td>\n",
       "      <td>7</td>\n",
       "      <td>...</td>\n",
       "      <td>11:10:00.000-07:00</td>\n",
       "      <td>SFO</td>\n",
       "      <td>ORD</td>\n",
       "      <td>American Airlines</td>\n",
       "      <td>16800</td>\n",
       "      <td>1847</td>\n",
       "      <td>coach</td>\n",
       "      <td>18</td>\n",
       "      <td>13</td>\n",
       "      <td>04</td>\n",
       "    </tr>\n",
       "    <tr>\n",
       "      <th>921938</th>\n",
       "      <td>5/30/2022</td>\n",
       "      <td>ORD</td>\n",
       "      <td>SFO</td>\n",
       "      <td>0</td>\n",
       "      <td>false</td>\n",
       "      <td>false</td>\n",
       "      <td>true</td>\n",
       "      <td>459.53</td>\n",
       "      <td>508.60</td>\n",
       "      <td>7</td>\n",
       "      <td>...</td>\n",
       "      <td>19:30:00.000-07:00</td>\n",
       "      <td>SFO</td>\n",
       "      <td>ORD</td>\n",
       "      <td>Alaska Airlines</td>\n",
       "      <td>16800</td>\n",
       "      <td>1847</td>\n",
       "      <td>coach</td>\n",
       "      <td>02</td>\n",
       "      <td>21</td>\n",
       "      <td>04</td>\n",
       "    </tr>\n",
       "    <tr>\n",
       "      <th>921939</th>\n",
       "      <td>5/30/2022</td>\n",
       "      <td>ORD</td>\n",
       "      <td>SFO</td>\n",
       "      <td>0</td>\n",
       "      <td>false</td>\n",
       "      <td>false</td>\n",
       "      <td>true</td>\n",
       "      <td>478.14</td>\n",
       "      <td>528.60</td>\n",
       "      <td>9</td>\n",
       "      <td>...</td>\n",
       "      <td>11:36:00.000-07:00</td>\n",
       "      <td>SFO</td>\n",
       "      <td>ORD</td>\n",
       "      <td>United</td>\n",
       "      <td>16860</td>\n",
       "      <td>1847</td>\n",
       "      <td>coach</td>\n",
       "      <td>18</td>\n",
       "      <td>13</td>\n",
       "      <td>04</td>\n",
       "    </tr>\n",
       "    <tr>\n",
       "      <th>921940</th>\n",
       "      <td>5/30/2022</td>\n",
       "      <td>ORD</td>\n",
       "      <td>SFO</td>\n",
       "      <td>0</td>\n",
       "      <td>false</td>\n",
       "      <td>false</td>\n",
       "      <td>true</td>\n",
       "      <td>496.74</td>\n",
       "      <td>548.60</td>\n",
       "      <td>2</td>\n",
       "      <td>...</td>\n",
       "      <td>16:13:00.000-07:00</td>\n",
       "      <td>SFO</td>\n",
       "      <td>ORD</td>\n",
       "      <td>American Airlines</td>\n",
       "      <td>16800</td>\n",
       "      <td>1847</td>\n",
       "      <td>coach</td>\n",
       "      <td>23</td>\n",
       "      <td>18</td>\n",
       "      <td>04</td>\n",
       "    </tr>\n",
       "    <tr>\n",
       "      <th>921941</th>\n",
       "      <td>5/30/2022</td>\n",
       "      <td>ORD</td>\n",
       "      <td>SFO</td>\n",
       "      <td>0</td>\n",
       "      <td>false</td>\n",
       "      <td>false</td>\n",
       "      <td>false</td>\n",
       "      <td>533.95</td>\n",
       "      <td>597.60</td>\n",
       "      <td>7</td>\n",
       "      <td>...</td>\n",
       "      <td>07:05:00.000-06:00</td>\n",
       "      <td>DEN</td>\n",
       "      <td>ORD</td>\n",
       "      <td>United</td>\n",
       "      <td>9540</td>\n",
       "      <td>903</td>\n",
       "      <td>coach</td>\n",
       "      <td>13</td>\n",
       "      <td>10</td>\n",
       "      <td>02</td>\n",
       "    </tr>\n",
       "    <tr>\n",
       "      <th>921942</th>\n",
       "      <td>5/30/2022</td>\n",
       "      <td>ORD</td>\n",
       "      <td>SFO</td>\n",
       "      <td>0</td>\n",
       "      <td>false</td>\n",
       "      <td>false</td>\n",
       "      <td>true</td>\n",
       "      <td>559.07</td>\n",
       "      <td>615.60</td>\n",
       "      <td>9</td>\n",
       "      <td>...</td>\n",
       "      <td>22:00:00.000-07:00</td>\n",
       "      <td>SFO</td>\n",
       "      <td>ORD</td>\n",
       "      <td>United</td>\n",
       "      <td>15900</td>\n",
       "      <td>1847</td>\n",
       "      <td>coach</td>\n",
       "      <td>05</td>\n",
       "      <td>00</td>\n",
       "      <td>04</td>\n",
       "    </tr>\n",
       "    <tr>\n",
       "      <th>921943</th>\n",
       "      <td>5/30/2022</td>\n",
       "      <td>ORD</td>\n",
       "      <td>SFO</td>\n",
       "      <td>0</td>\n",
       "      <td>false</td>\n",
       "      <td>false</td>\n",
       "      <td>true</td>\n",
       "      <td>559.07</td>\n",
       "      <td>615.60</td>\n",
       "      <td>9</td>\n",
       "      <td>...</td>\n",
       "      <td>18:50:00.000-07:00</td>\n",
       "      <td>SFO</td>\n",
       "      <td>ORD</td>\n",
       "      <td>United</td>\n",
       "      <td>16680</td>\n",
       "      <td>1847</td>\n",
       "      <td>coach</td>\n",
       "      <td>01</td>\n",
       "      <td>21</td>\n",
       "      <td>04</td>\n",
       "    </tr>\n",
       "    <tr>\n",
       "      <th>921944</th>\n",
       "      <td>5/30/2022</td>\n",
       "      <td>ORD</td>\n",
       "      <td>SFO</td>\n",
       "      <td>0</td>\n",
       "      <td>false</td>\n",
       "      <td>false</td>\n",
       "      <td>true</td>\n",
       "      <td>559.07</td>\n",
       "      <td>615.60</td>\n",
       "      <td>9</td>\n",
       "      <td>...</td>\n",
       "      <td>23:59:00.000-07:00</td>\n",
       "      <td>SFO</td>\n",
       "      <td>ORD</td>\n",
       "      <td>United</td>\n",
       "      <td>16980</td>\n",
       "      <td>1847</td>\n",
       "      <td>coach</td>\n",
       "      <td>06</td>\n",
       "      <td>02</td>\n",
       "      <td>04</td>\n",
       "    </tr>\n",
       "    <tr>\n",
       "      <th>921945</th>\n",
       "      <td>5/30/2022</td>\n",
       "      <td>ORD</td>\n",
       "      <td>SFO</td>\n",
       "      <td>0</td>\n",
       "      <td>false</td>\n",
       "      <td>false</td>\n",
       "      <td>true</td>\n",
       "      <td>559.07</td>\n",
       "      <td>615.60</td>\n",
       "      <td>9</td>\n",
       "      <td>...</td>\n",
       "      <td>13:24:00.000-07:00</td>\n",
       "      <td>SFO</td>\n",
       "      <td>ORD</td>\n",
       "      <td>United</td>\n",
       "      <td>17340</td>\n",
       "      <td>1847</td>\n",
       "      <td>coach</td>\n",
       "      <td>20</td>\n",
       "      <td>15</td>\n",
       "      <td>04</td>\n",
       "    </tr>\n",
       "  </tbody>\n",
       "</table>\n",
       "<p>10 rows × 24 columns</p>\n",
       "</div>"
      ],
      "text/plain": [
       "       flightDate startingAirport destinationAirport  elapsedDays  \\\n",
       "921936  5/30/2022             ORD                SFO            0   \n",
       "921937  5/30/2022             ORD                SFO            0   \n",
       "921938  5/30/2022             ORD                SFO            0   \n",
       "921939  5/30/2022             ORD                SFO            0   \n",
       "921940  5/30/2022             ORD                SFO            0   \n",
       "921941  5/30/2022             ORD                SFO            0   \n",
       "921942  5/30/2022             ORD                SFO            0   \n",
       "921943  5/30/2022             ORD                SFO            0   \n",
       "921944  5/30/2022             ORD                SFO            0   \n",
       "921945  5/30/2022             ORD                SFO            0   \n",
       "\n",
       "       isBasicEconomy isRefundable isNonStop  baseFare  totalFare  \\\n",
       "921936          false        false      true    431.62     478.59   \n",
       "921937          false        false      true    431.62     478.59   \n",
       "921938          false        false      true    459.53     508.60   \n",
       "921939          false        false      true    478.14     528.60   \n",
       "921940          false        false      true    496.74     548.60   \n",
       "921941          false        false     false    533.95     597.60   \n",
       "921942          false        false      true    559.07     615.60   \n",
       "921943          false        false      true    559.07     615.60   \n",
       "921944          false        false      true    559.07     615.60   \n",
       "921945          false        false      true    559.07     615.60   \n",
       "\n",
       "        seatsRemaining  ...  segmentsArrivalTimeRaw  \\\n",
       "921936               7  ...      19:54:00.000-07:00   \n",
       "921937               7  ...      11:10:00.000-07:00   \n",
       "921938               7  ...      19:30:00.000-07:00   \n",
       "921939               9  ...      11:36:00.000-07:00   \n",
       "921940               2  ...      16:13:00.000-07:00   \n",
       "921941               7  ...      07:05:00.000-06:00   \n",
       "921942               9  ...      22:00:00.000-07:00   \n",
       "921943               9  ...      18:50:00.000-07:00   \n",
       "921944               9  ...      23:59:00.000-07:00   \n",
       "921945               9  ...      13:24:00.000-07:00   \n",
       "\n",
       "       segmentsArrivalAirportCode segmentsDepartureAirportCode  \\\n",
       "921936                        SFO                          ORD   \n",
       "921937                        SFO                          ORD   \n",
       "921938                        SFO                          ORD   \n",
       "921939                        SFO                          ORD   \n",
       "921940                        SFO                          ORD   \n",
       "921941                        DEN                          ORD   \n",
       "921942                        SFO                          ORD   \n",
       "921943                        SFO                          ORD   \n",
       "921944                        SFO                          ORD   \n",
       "921945                        SFO                          ORD   \n",
       "\n",
       "       segmentsAirlineName segmentsDurationInSeconds segmentsDistance  \\\n",
       "921936   American Airlines                     16740             1847   \n",
       "921937   American Airlines                     16800             1847   \n",
       "921938     Alaska Airlines                     16800             1847   \n",
       "921939              United                     16860             1847   \n",
       "921940   American Airlines                     16800             1847   \n",
       "921941              United                      9540              903   \n",
       "921942              United                     15900             1847   \n",
       "921943              United                     16680             1847   \n",
       "921944              United                     16980             1847   \n",
       "921945              United                     17340             1847   \n",
       "\n",
       "       segmentsCabinCode segmentsArrivalTimeEpochInhours  \\\n",
       "921936             coach                              02   \n",
       "921937             coach                              18   \n",
       "921938             coach                              02   \n",
       "921939             coach                              18   \n",
       "921940             coach                              23   \n",
       "921941             coach                              13   \n",
       "921942             coach                              05   \n",
       "921943             coach                              01   \n",
       "921944             coach                              06   \n",
       "921945             coach                              20   \n",
       "\n",
       "       segmentsDepartureTimeEpochInhours  segmentsDurationInhours   \n",
       "921936                                 22                       04  \n",
       "921937                                 13                       04  \n",
       "921938                                 21                       04  \n",
       "921939                                 13                       04  \n",
       "921940                                 18                       04  \n",
       "921941                                 10                       02  \n",
       "921942                                 00                       04  \n",
       "921943                                 21                       04  \n",
       "921944                                 02                       04  \n",
       "921945                                 15                       04  \n",
       "\n",
       "[10 rows x 24 columns]"
      ]
     },
     "execution_count": 44,
     "metadata": {},
     "output_type": "execute_result"
    }
   ],
   "source": [
    "df.tail(10)"
   ]
  },
  {
   "cell_type": "markdown",
   "id": "4dff3ba3",
   "metadata": {},
   "source": [
    "## <font color= '51b4e3'> The shape after preprocessing "
   ]
  },
  {
   "cell_type": "code",
   "execution_count": 45,
   "id": "34ff6539",
   "metadata": {},
   "outputs": [
    {
     "data": {
      "text/plain": [
       "(880990, 24)"
      ]
     },
     "execution_count": 45,
     "metadata": {},
     "output_type": "execute_result"
    }
   ],
   "source": [
    "df.shape"
   ]
  },
  {
   "cell_type": "markdown",
   "id": "70f88015",
   "metadata": {},
   "source": [
    "## <font color= '51b4e3'> Save the cleaned data to be able to use \n",
    " "
   ]
  },
  {
   "cell_type": "code",
   "execution_count": 46,
   "id": "f438853a",
   "metadata": {},
   "outputs": [],
   "source": [
    "df.to_csv('FlightDataset.csv', index=False, header=True)"
   ]
  }
 ],
 "metadata": {
  "colab": {
   "provenance": []
  },
  "kernelspec": {
   "display_name": "Python 3 (ipykernel)",
   "language": "python",
   "name": "python3"
  },
  "language_info": {
   "codemirror_mode": {
    "name": "ipython",
    "version": 3
   },
   "file_extension": ".py",
   "mimetype": "text/x-python",
   "name": "python",
   "nbconvert_exporter": "python",
   "pygments_lexer": "ipython3",
   "version": "3.9.12"
  }
 },
 "nbformat": 4,
 "nbformat_minor": 5
}
