{
  "cells": [
    {
      "cell_type": "markdown",
      "id": "e6596663",
      "metadata": {
        "id": "e6596663"
      },
      "source": [
        "---\n",
        "# PySpark Machine Learning Models\n",
        "---\n",
        "* Use Spark to build ML models of your choice (classification – regression) in the attempt of solving your business problem. \n",
        "* Build at least 4 models, optimize them, test them, and include your results. You will not be graded on accuracy and it is more important that you are implementing your techniques correctly even if the model does not return the intended results. If your model does not provide sufficient accuracy levels, make sure to present your work while explaining possible reasons behind this shortfall. "
      ]
    },
    {
      "cell_type": "markdown",
      "id": "540e4e82",
      "metadata": {
        "id": "540e4e82"
      },
      "source": [
        "### **Column:**\n",
        "\n",
        "* legId: An identifier for the flight.\n",
        "* searchDate: The date (YYYY-MM-DD) on which this entry was taken from Expedia.\n",
        "* flightDate: The date (YYYY-MM-DD) of the flight.\n",
        "* startingAirport: Three-character IATA airport code for the initial location.\n",
        "* destinationAirport: Three-character IATA airport code for the arrival location.\n",
        "* fareBasisCode: The fare basis code.\n",
        "* travelDuration: The travel duration in hours and minutes.\n",
        "* elapsedDays: The number of elapsed days (usually 0).\n",
        "* isBasicEconomy: Boolean for whether the ticket is for basic economy.\n",
        "* isRefundable: Boolean for whether the ticket is refundable.\n",
        "* isNonStop: Boolean for whether the flight is non-stop.\n",
        "* baseFare: The price of the ticket (in USD).\n",
        "* totalFare: The price of the ticket (in USD) including taxes and other fees.\n",
        "* seatsRemaining: Integer for the number of seats remaining.\n",
        "* totalTravelDistance: The total travel distance in miles. This data is sometimes missing.\n",
        "* segmentsDepartureTimeEpochSeconds: String containing the departure time (Unix time) for each leg of the trip. The entries for each of the legs are separated by '||'.\n",
        "* segmentsDepartureTimeRaw: String containing the departure time (ISO 8601 format: YYYY-MM-DDThh:mm:ss.000±[hh]:00) for each leg of the trip. The entries for each of the legs are separated by '||'.\n",
        "* segmentsArrivalTimeEpochSeconds: String containing the arrival time (Unix time) for each leg of the trip. The entries for each of the legs are separated by '||'.\n",
        "* segmentsArrivalTimeRaw: String containing the arrival time (ISO 8601 format: YYYY-MM-DDThh:mm:ss.000±[hh]:00) for each leg of the trip. The entries for each of the legs are separated by '||'.\n",
        "* segmentsArrivalAirportCode: String containing the IATA airport code for the arrival location for each leg of the trip. The entries for each of the legs are separated by '||'.\n",
        "* segmentsDepartureAirportCode: String containing the IATA airport code for the departure location for each leg of the trip. The entries for each of the legs are separated by '||'.\n",
        "* segmentsAirlineName: String containing the name of the airline that services each leg of the trip. The entries for each of the legs are separated by '||'.\n",
        "* segmentsAirlineCode: String containing the two-letter airline code that services each leg of the trip. The entries for each of the legs are separated by '||'.\n",
        "* segmentsEquipmentDescription: String containing the type of airplane used for each leg of the trip (e.g. \"Airbus A321\" or \"Boeing 737-800\"). The entries for each of the legs are separated by '||'.\n",
        "* segmentsDurationInSeconds: String containing the duration of the flight (in seconds) for each leg of the trip. The entries for each of the legs are separated by '||'.\n",
        "* segmentsDistance: String containing the distance traveled (in miles) for each leg of the trip. The entries for each of the legs are separated by '||'.\n",
        "* segmentsCabinCode: String containing the cabin for each leg of the trip (e.g. \"coach\"). The entries for each of the legs are separated by '||'."
      ]
    },
    {
      "cell_type": "markdown",
      "id": "ffd2cec4",
      "metadata": {
        "id": "ffd2cec4"
      },
      "source": [
        "## Install Pyspark"
      ]
    },
    {
      "cell_type": "code",
      "execution_count": 27,
      "id": "fe40f54f",
      "metadata": {
        "colab": {
          "base_uri": "https://localhost:8080/"
        },
        "id": "fe40f54f",
        "outputId": "78485d2e-16d6-4bf1-a429-a86f896044cc"
      },
      "outputs": [
        {
          "output_type": "stream",
          "name": "stdout",
          "text": [
            "Looking in indexes: https://pypi.org/simple, https://us-python.pkg.dev/colab-wheels/public/simple/\n",
            "Requirement already satisfied: pyspark in /usr/local/lib/python3.8/dist-packages (3.3.1)\n",
            "Requirement already satisfied: py4j==0.10.9.5 in /usr/local/lib/python3.8/dist-packages (from pyspark) (0.10.9.5)\n"
          ]
        }
      ],
      "source": [
        "!pip install pyspark"
      ]
    },
    {
      "cell_type": "markdown",
      "id": "c3b655db",
      "metadata": {
        "id": "c3b655db"
      },
      "source": [
        "## Importing Packages "
      ]
    },
    {
      "cell_type": "code",
      "execution_count": 28,
      "id": "462dfb35",
      "metadata": {
        "id": "462dfb35"
      },
      "outputs": [],
      "source": [
        "import matplotlib.pyplot as plt\n",
        "import seaborn as sns\n",
        "import pandas as pd\n",
        "import numpy as np\n",
        "\n",
        "import pyspark\n",
        "from pyspark.sql.functions import col, isnan, when, count\n",
        "from pyspark.ml.feature import Imputer, VectorAssembler, StringIndexer\n",
        "from pyspark.sql import functions as F\n",
        "from pyspark.sql import types\n",
        "from pyspark.sql.functions import mean\n",
        "from pyspark.ml.regression import RandomForestRegressor, DecisionTreeRegressor, GBTRegressor, LinearRegression\n",
        "from pyspark.ml.evaluation import RegressionEvaluator"
      ]
    },
    {
      "cell_type": "markdown",
      "id": "f3569a2e",
      "metadata": {
        "id": "f3569a2e"
      },
      "source": [
        "## Connect to the Spark server\n",
        "* Initializing a Spark Session"
      ]
    },
    {
      "cell_type": "code",
      "execution_count": 29,
      "id": "f587af5b",
      "metadata": {
        "id": "f587af5b"
      },
      "outputs": [],
      "source": [
        "spark = pyspark.sql.SparkSession.builder.getOrCreate()"
      ]
    },
    {
      "cell_type": "markdown",
      "id": "a709ce6b",
      "metadata": {
        "id": "a709ce6b"
      },
      "source": [
        "## Obtain the Data\n",
        "* Reading the data\n",
        "* Schema information of the data"
      ]
    },
    {
      "cell_type": "code",
      "execution_count": 30,
      "id": "7fb78075",
      "metadata": {
        "colab": {
          "base_uri": "https://localhost:8080/"
        },
        "id": "7fb78075",
        "outputId": "80efd1a8-f6e0-4549-a6d1-36554a3abb7b"
      },
      "outputs": [
        {
          "output_type": "stream",
          "name": "stdout",
          "text": [
            "root\n",
            " |-- flightDate: string (nullable = true)\n",
            " |-- startingAirport: string (nullable = true)\n",
            " |-- destinationAirport: string (nullable = true)\n",
            " |-- elapsedDays: integer (nullable = true)\n",
            " |-- isBasicEconomy: boolean (nullable = true)\n",
            " |-- isRefundable: boolean (nullable = true)\n",
            " |-- isNonStop: boolean (nullable = true)\n",
            " |-- baseFare: double (nullable = true)\n",
            " |-- totalFare: double (nullable = true)\n",
            " |-- seatsRemaining: integer (nullable = true)\n",
            " |-- totalTravelDistance: integer (nullable = true)\n",
            " |-- segmentsDepartureTimeEpochSeconds: integer (nullable = true)\n",
            " |-- segmentsDepartureTimeRaw: timestamp (nullable = true)\n",
            " |-- segmentsArrivalTimeEpochSeconds: integer (nullable = true)\n",
            " |-- segmentsArrivalTimeRaw: timestamp (nullable = true)\n",
            " |-- segmentsArrivalAirportCode: string (nullable = true)\n",
            " |-- segmentsDepartureAirportCode: string (nullable = true)\n",
            " |-- segmentsAirlineName: string (nullable = true)\n",
            " |-- segmentsDurationInSeconds: integer (nullable = true)\n",
            " |-- segmentsDistance: integer (nullable = true)\n",
            " |-- segmentsCabinCode: string (nullable = true)\n",
            " |-- segmentsArrivalTimeEpochInhours: integer (nullable = true)\n",
            " |-- segmentsDepartureTimeEpochInhours : integer (nullable = true)\n",
            " |-- segmentsDurationInhours : integer (nullable = true)\n",
            "\n"
          ]
        }
      ],
      "source": [
        "data = spark.read.csv('FlightDataset.csv',\n",
        "                     sep=',',\n",
        "                     inferSchema=True,\n",
        "                     header=True,\n",
        "                     multiLine=True)\n",
        "data.printSchema()"
      ]
    },
    {
      "cell_type": "markdown",
      "id": "6236e777",
      "metadata": {
        "id": "6236e777"
      },
      "source": [
        "## Shape of the dataset"
      ]
    },
    {
      "cell_type": "code",
      "execution_count": 31,
      "id": "058db7fc",
      "metadata": {
        "colab": {
          "base_uri": "https://localhost:8080/"
        },
        "id": "058db7fc",
        "outputId": "30d16f77-cd7e-47af-b119-d07f216bb1f9"
      },
      "outputs": [
        {
          "output_type": "stream",
          "name": "stdout",
          "text": [
            "Shape of the dataset:  (880990, 24)\n"
          ]
        }
      ],
      "source": [
        "print(\"Shape of the dataset: \", (data.count(), len(data.columns)))"
      ]
    },
    {
      "cell_type": "markdown",
      "id": "d91b1671",
      "metadata": {
        "id": "d91b1671"
      },
      "source": [
        "## Show Dataset"
      ]
    },
    {
      "cell_type": "code",
      "execution_count": 32,
      "id": "087cd916",
      "metadata": {
        "colab": {
          "base_uri": "https://localhost:8080/"
        },
        "id": "087cd916",
        "outputId": "5526830e-366e-4570-ad17-314b59d2919b"
      },
      "outputs": [
        {
          "output_type": "stream",
          "name": "stdout",
          "text": [
            "+----------+---------------+------------------+-----------+--------------+------------+---------+--------+---------+--------------+-------------------+---------------------------------+------------------------+-------------------------------+----------------------+--------------------------+----------------------------+-------------------+-------------------------+----------------+-----------------+-------------------------------+----------------------------------+------------------------+\n",
            "|flightDate|startingAirport|destinationAirport|elapsedDays|isBasicEconomy|isRefundable|isNonStop|baseFare|totalFare|seatsRemaining|totalTravelDistance|segmentsDepartureTimeEpochSeconds|segmentsDepartureTimeRaw|segmentsArrivalTimeEpochSeconds|segmentsArrivalTimeRaw|segmentsArrivalAirportCode|segmentsDepartureAirportCode|segmentsAirlineName|segmentsDurationInSeconds|segmentsDistance|segmentsCabinCode|segmentsArrivalTimeEpochInhours|segmentsDepartureTimeEpochInhours |segmentsDurationInhours |\n",
            "+----------+---------------+------------------+-----------+--------------+------------+---------+--------+---------+--------------+-------------------+---------------------------------+------------------------+-------------------------------+----------------------+--------------------------+----------------------------+-------------------+-------------------------+----------------+-----------------+-------------------------------+----------------------------------+------------------------+\n",
            "| 4/17/2022|            ATL|               BOS|          0|         false|       false|     true|  217.67|    248.6|             9|                947|                       1650214620|     2022-12-28 16:57:00|                     1650223560|   2022-12-28 19:26:00|                       BOS|                         ATL|              Delta|                     8940|             947|            coach|                             19|                                16|                       2|\n",
            "| 4/17/2022|            ATL|               BOS|          0|         false|       false|     true|  217.67|    248.6|             4|                947|                       1650191400|     2022-12-28 10:30:00|                     1650200400|   2022-12-28 13:00:00|                       BOS|                         ATL|              Delta|                     9000|             947|            coach|                             13|                                10|                       2|\n",
            "| 4/17/2022|            ATL|               BOS|          0|         false|       false|     true|  217.67|    248.6|             9|                947|                       1650209700|     2022-12-28 15:35:00|                     1650218700|   2022-12-28 18:05:00|                       BOS|                         ATL|              Delta|                     9000|             947|            coach|                             18|                                15|                       2|\n",
            "| 4/17/2022|            ATL|               BOS|          0|         false|       false|     true|  217.67|    248.6|             8|                947|                       1650218340|     2022-12-28 17:59:00|                     1650227460|   2022-12-28 20:31:00|                       BOS|                         ATL|              Delta|                     9120|             947|            coach|                             20|                                17|                       2|\n",
            "| 4/17/2022|            ATL|               BOS|          0|         false|       false|     true|  217.67|    248.6|             9|                947|                       1650203940|     2022-12-28 13:59:00|                     1650213180|   2022-12-28 16:33:00|                       BOS|                         ATL|              Delta|                     9240|             947|            coach|                             16|                                13|                       2|\n",
            "| 4/17/2022|            ATL|               BOS|          0|         false|       false|    false|  213.02|    251.1|             3|                956|                       1650198000|     2022-12-28 12:20:00|                     1650203400|   2022-12-28 13:50:00|                       CLT|                         ATL|  American Airlines|                     5400|             228|            coach|                             13|                                12|                       1|\n",
            "| 4/17/2022|            ATL|               BOS|          0|         false|       false|    false|  213.02|    251.1|             3|                956|                       1650198000|     2022-12-28 12:20:00|                     1650203400|   2022-12-28 13:50:00|                       CLT|                         ATL|  American Airlines|                     5400|             228|            coach|                             13|                                12|                       1|\n",
            "| 4/17/2022|            ATL|               BOS|          0|         false|       false|    false|  213.02|    251.1|             7|                956|                       1650193200|     2022-12-28 11:00:00|                     1650198060|   2022-12-28 12:21:00|                       CLT|                         ATL|  American Airlines|                     4860|             228|            coach|                             12|                                11|                       1|\n",
            "| 4/17/2022|            ATL|               BOS|          0|         false|       false|    false|  213.02|    251.1|             7|                956|                       1650193200|     2022-12-28 11:00:00|                     1650198060|   2022-12-28 12:21:00|                       CLT|                         ATL|  American Airlines|                     4860|             228|            coach|                             12|                                11|                       1|\n",
            "| 4/17/2022|            ATL|               BOS|          0|         false|       false|    false|  213.02|    252.6|             1|                947|                       1650187800|     2022-12-28 09:30:00|                     1650194280|   2022-12-28 11:18:00|                       IAD|                         ATL|             United|                     6480|             541|            coach|                             11|                                 9|                       1|\n",
            "| 4/17/2022|            ATL|               BOS|          0|         false|       false|    false|  213.02|    252.6|             3|               1462|                       1650220740|     2022-12-28 18:39:00|                     1650228840|   2022-12-28 20:54:00|                       ORD|                         ATL|  American Airlines|                     8100|             600|            coach|                             20|                                18|                       2|\n",
            "| 4/17/2022|            ATL|               BOS|          0|         false|       false|    false|  213.02|    252.6|             5|               1462|                       1650232800|     2022-12-28 22:00:00|                     1650240660|   2022-12-29 00:11:00|                       ORD|                         ATL|  American Airlines|                     7860|             600|            coach|                              0|                                22|                       2|\n",
            "| 4/17/2022|            ATL|               BOS|          0|         false|       false|    false|  213.02|    252.6|             3|               1462|                       1650220740|     2022-12-28 18:39:00|                     1650228840|   2022-12-28 20:54:00|                       ORD|                         ATL|  American Airlines|                     8100|             600|            coach|                             20|                                18|                       2|\n",
            "| 4/17/2022|            ATL|               BOS|          0|         false|       false|    false|  213.02|    252.6|             2|               1462|                       1650190200|     2022-12-28 10:10:00|                     1650198000|   2022-12-28 12:20:00|                       ORD|                         ATL|             United|                     7800|             600|            coach|                             12|                                10|                       2|\n",
            "| 4/17/2022|            ATL|               BOS|          0|         false|       false|    false|  260.47|   302.11|             1|                956|                       1650233700|     2022-12-28 22:15:00|                     1650238620|   2022-12-28 23:37:00|                       CLT|                         ATL|  American Airlines|                     4920|             228|            coach|                             23|                                22|                       1|\n",
            "| 4/17/2022|            ATL|               BOS|          0|         false|       false|    false|  260.47|   302.11|             1|                956|                       1650207720|     2022-12-28 15:02:00|                     1650212880|   2022-12-28 16:28:00|                       CLT|                         ATL|  American Airlines|                     5160|             228|            coach|                             16|                                15|                       1|\n",
            "| 4/17/2022|            ATL|               BOS|          0|         false|       false|    false|  260.47|   302.11|             1|                956|                       1650226680|     2022-12-28 20:18:00|                     1650230760|   2022-12-28 21:26:00|                       CLT|                         ATL|  American Airlines|                     4080|             228|            coach|                             21|                                20|                       1|\n",
            "| 4/17/2022|            ATL|               BOS|          0|         false|       false|    false|  260.47|   302.11|             1|                956|                       1650207720|     2022-12-28 15:02:00|                     1650212880|   2022-12-28 16:28:00|                       CLT|                         ATL|  American Airlines|                     5160|             228|            coach|                             16|                                15|                       1|\n",
            "| 4/17/2022|            ATL|               BOS|          0|         false|       false|    false|  260.47|   302.11|             1|                956|                       1650226680|     2022-12-28 20:18:00|                     1650230760|   2022-12-28 21:26:00|                       CLT|                         ATL|  American Airlines|                     4080|             228|            coach|                             21|                                20|                       1|\n",
            "| 4/17/2022|            ATL|               BOS|          1|          true|       false|    false|   258.6|    307.2|             9|                947|                       1650244980|     2022-12-29 01:23:00|                     1650253320|   2022-12-29 03:42:00|                       EWR|                         ATL|             United|                     8340|             762|            coach|                              3|                                 1|                       2|\n",
            "+----------+---------------+------------------+-----------+--------------+------------+---------+--------+---------+--------------+-------------------+---------------------------------+------------------------+-------------------------------+----------------------+--------------------------+----------------------------+-------------------+-------------------------+----------------+-----------------+-------------------------------+----------------------------------+------------------------+\n",
            "only showing top 20 rows\n",
            "\n"
          ]
        }
      ],
      "source": [
        "data.show()"
      ]
    },
    {
      "cell_type": "markdown",
      "id": "abb046d0",
      "metadata": {
        "id": "abb046d0"
      },
      "source": [
        "## Data Preprocessing & Cleaning"
      ]
    },
    {
      "cell_type": "markdown",
      "id": "8a2cfff6",
      "metadata": {
        "id": "8a2cfff6"
      },
      "source": [
        "* Change data type"
      ]
    },
    {
      "cell_type": "code",
      "execution_count": 33,
      "id": "10bb4be5",
      "metadata": {
        "id": "10bb4be5"
      },
      "outputs": [],
      "source": [
        "# from boolean to string\n",
        "data = data.withColumn('isBasicEconomy', F.col('isBasicEconomy').cast(types.StringType()))\n",
        "data = data.withColumn('isRefundable', F.col('isRefundable').cast(types.StringType()))\n",
        "data = data.withColumn('isNonStop', F.col('isNonStop').cast(types.StringType()))"
      ]
    },
    {
      "cell_type": "code",
      "execution_count": 34,
      "id": "0996634f",
      "metadata": {
        "id": "0996634f"
      },
      "outputs": [],
      "source": [
        "# from timestamp to string\n",
        "data = data.withColumn('segmentsDepartureTimeRaw', F.col('segmentsDepartureTimeRaw').cast(types.StringType()))\n",
        "data = data.withColumn('segmentsArrivalTimeRaw', F.col('segmentsArrivalTimeRaw').cast(types.StringType()))"
      ]
    },
    {
      "cell_type": "code",
      "execution_count": 35,
      "id": "ac127032",
      "metadata": {
        "colab": {
          "base_uri": "https://localhost:8080/"
        },
        "id": "ac127032",
        "outputId": "b3c608df-fc53-4fcb-837c-39b22185de0b"
      },
      "outputs": [
        {
          "output_type": "stream",
          "name": "stdout",
          "text": [
            "root\n",
            " |-- flightDate: string (nullable = true)\n",
            " |-- startingAirport: string (nullable = true)\n",
            " |-- destinationAirport: string (nullable = true)\n",
            " |-- elapsedDays: integer (nullable = true)\n",
            " |-- isBasicEconomy: string (nullable = true)\n",
            " |-- isRefundable: string (nullable = true)\n",
            " |-- isNonStop: string (nullable = true)\n",
            " |-- baseFare: double (nullable = true)\n",
            " |-- totalFare: double (nullable = true)\n",
            " |-- seatsRemaining: integer (nullable = true)\n",
            " |-- totalTravelDistance: integer (nullable = true)\n",
            " |-- segmentsDepartureTimeEpochSeconds: integer (nullable = true)\n",
            " |-- segmentsDepartureTimeRaw: string (nullable = true)\n",
            " |-- segmentsArrivalTimeEpochSeconds: integer (nullable = true)\n",
            " |-- segmentsArrivalTimeRaw: string (nullable = true)\n",
            " |-- segmentsArrivalAirportCode: string (nullable = true)\n",
            " |-- segmentsDepartureAirportCode: string (nullable = true)\n",
            " |-- segmentsAirlineName: string (nullable = true)\n",
            " |-- segmentsDurationInSeconds: integer (nullable = true)\n",
            " |-- segmentsDistance: integer (nullable = true)\n",
            " |-- segmentsCabinCode: string (nullable = true)\n",
            " |-- segmentsArrivalTimeEpochInhours: integer (nullable = true)\n",
            " |-- segmentsDepartureTimeEpochInhours : integer (nullable = true)\n",
            " |-- segmentsDurationInhours : integer (nullable = true)\n",
            "\n"
          ]
        }
      ],
      "source": [
        "data.printSchema()"
      ]
    },
    {
      "cell_type": "markdown",
      "id": "a74ac6ae",
      "metadata": {
        "id": "a74ac6ae"
      },
      "source": [
        "* check for null values"
      ]
    },
    {
      "cell_type": "code",
      "execution_count": 36,
      "id": "41ec1f7a",
      "metadata": {
        "colab": {
          "base_uri": "https://localhost:8080/"
        },
        "id": "41ec1f7a",
        "outputId": "352d3cd7-5de3-4f39-d64b-aa60f1908a82"
      },
      "outputs": [
        {
          "output_type": "stream",
          "name": "stdout",
          "text": [
            "+----------+---------------+------------------+-----------+--------------+------------+---------+--------+---------+--------------+-------------------+---------------------------------+------------------------+-------------------------------+----------------------+--------------------------+----------------------------+-------------------+-------------------------+----------------+-----------------+-------------------------------+----------------------------------+------------------------+\n",
            "|flightDate|startingAirport|destinationAirport|elapsedDays|isBasicEconomy|isRefundable|isNonStop|baseFare|totalFare|seatsRemaining|totalTravelDistance|segmentsDepartureTimeEpochSeconds|segmentsDepartureTimeRaw|segmentsArrivalTimeEpochSeconds|segmentsArrivalTimeRaw|segmentsArrivalAirportCode|segmentsDepartureAirportCode|segmentsAirlineName|segmentsDurationInSeconds|segmentsDistance|segmentsCabinCode|segmentsArrivalTimeEpochInhours|segmentsDepartureTimeEpochInhours |segmentsDurationInhours |\n",
            "+----------+---------------+------------------+-----------+--------------+------------+---------+--------+---------+--------------+-------------------+---------------------------------+------------------------+-------------------------------+----------------------+--------------------------+----------------------------+-------------------+-------------------------+----------------+-----------------+-------------------------------+----------------------------------+------------------------+\n",
            "|         0|              0|                 0|          0|             0|           0|        0|       0|        0|             0|                  0|                                0|                       0|                              0|                     0|                         0|                           0|                  0|                        0|               0|                0|                              0|                                 0|                       0|\n",
            "+----------+---------------+------------------+-----------+--------------+------------+---------+--------+---------+--------------+-------------------+---------------------------------+------------------------+-------------------------------+----------------------+--------------------------+----------------------------+-------------------+-------------------------+----------------+-----------------+-------------------------------+----------------------------------+------------------------+\n",
            "\n"
          ]
        }
      ],
      "source": [
        "# Find Count of Null, None, NaN of All DataFrame Columns\n",
        "from pyspark.sql.functions import col,isnan, when, count\n",
        "data.select([count(when(isnan(c) | col(c).isNull(), c)).alias(c) for c in data.columns]\n",
        "   ).show()"
      ]
    },
    {
      "cell_type": "markdown",
      "id": "84cd1b9f",
      "metadata": {
        "id": "84cd1b9f"
      },
      "source": [
        "## Descriptive Statistics"
      ]
    },
    {
      "cell_type": "code",
      "execution_count": 37,
      "id": "419557a6",
      "metadata": {
        "colab": {
          "base_uri": "https://localhost:8080/"
        },
        "id": "419557a6",
        "outputId": "9149ba98-1afb-4a10-d87d-40b700e89820"
      },
      "outputs": [
        {
          "output_type": "stream",
          "name": "stdout",
          "text": [
            "+-------+-------------------+------------------+------------------+-----------------+-------------------+---------------------------------+-------------------------------+-------------------------+-----------------+-------------------------------+----------------------------------+------------------------+\n",
            "|summary|        elapsedDays|          baseFare|         totalFare|   seatsRemaining|totalTravelDistance|segmentsDepartureTimeEpochSeconds|segmentsArrivalTimeEpochSeconds|segmentsDurationInSeconds| segmentsDistance|segmentsArrivalTimeEpochInhours|segmentsDepartureTimeEpochInhours |segmentsDurationInhours |\n",
            "+-------+-------------------+------------------+------------------+-----------------+-------------------+---------------------------------+-------------------------------+-------------------------+-----------------+-------------------------------+----------------------------------+------------------------+\n",
            "|  count|             880990|            880990|            880990|           880990|             880990|                           880990|                         880990|                   880990|           880990|                         880990|                            880990|                  880990|\n",
            "|   mean| 0.1372648951747466|281.49864400275663| 324.6158218012182|6.018467860021112| 1543.7666488836423|             1.6523613560641325E9|           1.6523707902728522E9|        9434.208719735752|892.2020658577283|             13.732306836626977|                13.950426225042282|       2.146292239412479|\n",
            "| stddev|0.34413357653681675|139.52711542271487|152.16897231157026|2.665608880084191|  822.2806014037336|               1422798.4705448688|              1422838.618635255|        4503.888369157661|635.0465192158348|              6.726529320388635|                 5.747550067086767|      1.2699063319033401|\n",
            "|    min|                  0|              8.72|             23.97|                1|                 97|                       1650177000|                     1650186900|                     2100|               61|                              0|                                 0|                       0|\n",
            "|    25%|                  0|            165.58|             198.6|                4|                862|                       1651074000|                     1651083420|                     6120|              447|                             11|                                11|                       1|\n",
            "|    50%|                  0|            264.19|             307.6|                7|               1380|                       1652209920|                     1652219400|                     8100|              720|                             15|                                14|                       2|\n",
            "|    75%|                  0|            383.26|             436.6|                9|               2295|                       1653437100|                     1653447300|                    11340|             1192|                             19|                                18|                       3|\n",
            "|    max|                  2|            641.21|             699.8|               10|               3958|                       1655449140|                     1655469420|                    25440|             2722|                             23|                                23|                       7|\n",
            "+-------+-------------------+------------------+------------------+-----------------+-------------------+---------------------------------+-------------------------------+-------------------------+-----------------+-------------------------------+----------------------------------+------------------------+\n",
            "\n"
          ]
        }
      ],
      "source": [
        "data.select('elapsedDays', 'baseFare', 'totalFare','seatsRemaining','totalTravelDistance','segmentsDepartureTimeEpochSeconds',\\\n",
        "           'segmentsArrivalTimeEpochSeconds','segmentsDurationInSeconds','segmentsDistance','segmentsArrivalTimeEpochInhours',\\\n",
        "            'segmentsDepartureTimeEpochInhours ','segmentsDurationInhours ').summary().show()"
      ]
    },
    {
      "cell_type": "code",
      "execution_count": 38,
      "id": "61714717",
      "metadata": {
        "colab": {
          "base_uri": "https://localhost:8080/"
        },
        "id": "61714717",
        "outputId": "7e58b272-1853-4ea8-88b0-e005160201af"
      },
      "outputs": [
        {
          "output_type": "stream",
          "name": "stdout",
          "text": [
            "+----------+---------------+------------------+-----------+--------------+------------+---------+--------+---------+--------------+-------------------+---------------------------------+------------------------+-------------------------------+----------------------+--------------------------+----------------------------+-------------------+-------------------------+----------------+-----------------+-------------------------------+----------------------------------+------------------------+\n",
            "|flightDate|startingAirport|destinationAirport|elapsedDays|isBasicEconomy|isRefundable|isNonStop|baseFare|totalFare|seatsRemaining|totalTravelDistance|segmentsDepartureTimeEpochSeconds|segmentsDepartureTimeRaw|segmentsArrivalTimeEpochSeconds|segmentsArrivalTimeRaw|segmentsArrivalAirportCode|segmentsDepartureAirportCode|segmentsAirlineName|segmentsDurationInSeconds|segmentsDistance|segmentsCabinCode|segmentsArrivalTimeEpochInhours|segmentsDepartureTimeEpochInhours |segmentsDurationInhours |\n",
            "+----------+---------------+------------------+-----------+--------------+------------+---------+--------+---------+--------------+-------------------+---------------------------------+------------------------+-------------------------------+----------------------+--------------------------+----------------------------+-------------------+-------------------------+----------------+-----------------+-------------------------------+----------------------------------+------------------------+\n",
            "| 4/17/2022|            ATL|               BOS|          0|         false|       false|     true|  217.67|    248.6|             9|                947|                       1650214620|     2022-12-28 16:57:00|                     1650223560|   2022-12-28 19:26:00|                       BOS|                         ATL|              Delta|                     8940|             947|            coach|                             19|                                16|                       2|\n",
            "| 4/17/2022|            ATL|               BOS|          0|         false|       false|     true|  217.67|    248.6|             4|                947|                       1650191400|     2022-12-28 10:30:00|                     1650200400|   2022-12-28 13:00:00|                       BOS|                         ATL|              Delta|                     9000|             947|            coach|                             13|                                10|                       2|\n",
            "| 4/17/2022|            ATL|               BOS|          0|         false|       false|     true|  217.67|    248.6|             9|                947|                       1650209700|     2022-12-28 15:35:00|                     1650218700|   2022-12-28 18:05:00|                       BOS|                         ATL|              Delta|                     9000|             947|            coach|                             18|                                15|                       2|\n",
            "| 4/17/2022|            ATL|               BOS|          0|         false|       false|     true|  217.67|    248.6|             8|                947|                       1650218340|     2022-12-28 17:59:00|                     1650227460|   2022-12-28 20:31:00|                       BOS|                         ATL|              Delta|                     9120|             947|            coach|                             20|                                17|                       2|\n",
            "| 4/17/2022|            ATL|               BOS|          0|         false|       false|     true|  217.67|    248.6|             9|                947|                       1650203940|     2022-12-28 13:59:00|                     1650213180|   2022-12-28 16:33:00|                       BOS|                         ATL|              Delta|                     9240|             947|            coach|                             16|                                13|                       2|\n",
            "| 4/17/2022|            ATL|               BOS|          0|         false|       false|    false|  213.02|    251.1|             3|                956|                       1650198000|     2022-12-28 12:20:00|                     1650203400|   2022-12-28 13:50:00|                       CLT|                         ATL|  American Airlines|                     5400|             228|            coach|                             13|                                12|                       1|\n",
            "| 4/17/2022|            ATL|               BOS|          0|         false|       false|    false|  213.02|    251.1|             3|                956|                       1650198000|     2022-12-28 12:20:00|                     1650203400|   2022-12-28 13:50:00|                       CLT|                         ATL|  American Airlines|                     5400|             228|            coach|                             13|                                12|                       1|\n",
            "| 4/17/2022|            ATL|               BOS|          0|         false|       false|    false|  213.02|    251.1|             7|                956|                       1650193200|     2022-12-28 11:00:00|                     1650198060|   2022-12-28 12:21:00|                       CLT|                         ATL|  American Airlines|                     4860|             228|            coach|                             12|                                11|                       1|\n",
            "| 4/17/2022|            ATL|               BOS|          0|         false|       false|    false|  213.02|    251.1|             7|                956|                       1650193200|     2022-12-28 11:00:00|                     1650198060|   2022-12-28 12:21:00|                       CLT|                         ATL|  American Airlines|                     4860|             228|            coach|                             12|                                11|                       1|\n",
            "| 4/17/2022|            ATL|               BOS|          0|         false|       false|    false|  213.02|    252.6|             1|                947|                       1650187800|     2022-12-28 09:30:00|                     1650194280|   2022-12-28 11:18:00|                       IAD|                         ATL|             United|                     6480|             541|            coach|                             11|                                 9|                       1|\n",
            "| 4/17/2022|            ATL|               BOS|          0|         false|       false|    false|  213.02|    252.6|             3|               1462|                       1650220740|     2022-12-28 18:39:00|                     1650228840|   2022-12-28 20:54:00|                       ORD|                         ATL|  American Airlines|                     8100|             600|            coach|                             20|                                18|                       2|\n",
            "| 4/17/2022|            ATL|               BOS|          0|         false|       false|    false|  213.02|    252.6|             5|               1462|                       1650232800|     2022-12-28 22:00:00|                     1650240660|   2022-12-29 00:11:00|                       ORD|                         ATL|  American Airlines|                     7860|             600|            coach|                              0|                                22|                       2|\n",
            "| 4/17/2022|            ATL|               BOS|          0|         false|       false|    false|  213.02|    252.6|             3|               1462|                       1650220740|     2022-12-28 18:39:00|                     1650228840|   2022-12-28 20:54:00|                       ORD|                         ATL|  American Airlines|                     8100|             600|            coach|                             20|                                18|                       2|\n",
            "| 4/17/2022|            ATL|               BOS|          0|         false|       false|    false|  213.02|    252.6|             2|               1462|                       1650190200|     2022-12-28 10:10:00|                     1650198000|   2022-12-28 12:20:00|                       ORD|                         ATL|             United|                     7800|             600|            coach|                             12|                                10|                       2|\n",
            "| 4/17/2022|            ATL|               BOS|          0|         false|       false|    false|  260.47|   302.11|             1|                956|                       1650233700|     2022-12-28 22:15:00|                     1650238620|   2022-12-28 23:37:00|                       CLT|                         ATL|  American Airlines|                     4920|             228|            coach|                             23|                                22|                       1|\n",
            "| 4/17/2022|            ATL|               BOS|          0|         false|       false|    false|  260.47|   302.11|             1|                956|                       1650207720|     2022-12-28 15:02:00|                     1650212880|   2022-12-28 16:28:00|                       CLT|                         ATL|  American Airlines|                     5160|             228|            coach|                             16|                                15|                       1|\n",
            "| 4/17/2022|            ATL|               BOS|          0|         false|       false|    false|  260.47|   302.11|             1|                956|                       1650226680|     2022-12-28 20:18:00|                     1650230760|   2022-12-28 21:26:00|                       CLT|                         ATL|  American Airlines|                     4080|             228|            coach|                             21|                                20|                       1|\n",
            "| 4/17/2022|            ATL|               BOS|          0|         false|       false|    false|  260.47|   302.11|             1|                956|                       1650207720|     2022-12-28 15:02:00|                     1650212880|   2022-12-28 16:28:00|                       CLT|                         ATL|  American Airlines|                     5160|             228|            coach|                             16|                                15|                       1|\n",
            "| 4/17/2022|            ATL|               BOS|          0|         false|       false|    false|  260.47|   302.11|             1|                956|                       1650226680|     2022-12-28 20:18:00|                     1650230760|   2022-12-28 21:26:00|                       CLT|                         ATL|  American Airlines|                     4080|             228|            coach|                             21|                                20|                       1|\n",
            "| 4/17/2022|            ATL|               BOS|          1|          true|       false|    false|   258.6|    307.2|             9|                947|                       1650244980|     2022-12-29 01:23:00|                     1650253320|   2022-12-29 03:42:00|                       EWR|                         ATL|             United|                     8340|             762|            coach|                              3|                                 1|                       2|\n",
            "+----------+---------------+------------------+-----------+--------------+------------+---------+--------+---------+--------------+-------------------+---------------------------------+------------------------+-------------------------------+----------------------+--------------------------+----------------------------+-------------------+-------------------------+----------------+-----------------+-------------------------------+----------------------------------+------------------------+\n",
            "only showing top 20 rows\n",
            "\n"
          ]
        }
      ],
      "source": [
        "data.show()"
      ]
    },
    {
      "cell_type": "code",
      "execution_count": 39,
      "id": "1459152b",
      "metadata": {
        "colab": {
          "base_uri": "https://localhost:8080/"
        },
        "id": "1459152b",
        "outputId": "3191cfc1-cfed-49c5-ff9a-3b61b529ebcd"
      },
      "outputs": [
        {
          "output_type": "stream",
          "name": "stdout",
          "text": [
            "root\n",
            " |-- flightDate: string (nullable = true)\n",
            " |-- startingAirport: string (nullable = true)\n",
            " |-- destinationAirport: string (nullable = true)\n",
            " |-- elapsedDays: integer (nullable = true)\n",
            " |-- isBasicEconomy: string (nullable = true)\n",
            " |-- isRefundable: string (nullable = true)\n",
            " |-- isNonStop: string (nullable = true)\n",
            " |-- baseFare: double (nullable = true)\n",
            " |-- totalFare: double (nullable = true)\n",
            " |-- seatsRemaining: integer (nullable = true)\n",
            " |-- totalTravelDistance: integer (nullable = true)\n",
            " |-- segmentsDepartureTimeEpochSeconds: integer (nullable = true)\n",
            " |-- segmentsDepartureTimeRaw: string (nullable = true)\n",
            " |-- segmentsArrivalTimeEpochSeconds: integer (nullable = true)\n",
            " |-- segmentsArrivalTimeRaw: string (nullable = true)\n",
            " |-- segmentsArrivalAirportCode: string (nullable = true)\n",
            " |-- segmentsDepartureAirportCode: string (nullable = true)\n",
            " |-- segmentsAirlineName: string (nullable = true)\n",
            " |-- segmentsDurationInSeconds: integer (nullable = true)\n",
            " |-- segmentsDistance: integer (nullable = true)\n",
            " |-- segmentsCabinCode: string (nullable = true)\n",
            " |-- segmentsArrivalTimeEpochInhours: integer (nullable = true)\n",
            " |-- segmentsDepartureTimeEpochInhours : integer (nullable = true)\n",
            " |-- segmentsDurationInhours : integer (nullable = true)\n",
            "\n"
          ]
        }
      ],
      "source": [
        "data.printSchema()"
      ]
    },
    {
      "cell_type": "markdown",
      "id": "00082963",
      "metadata": {
        "id": "00082963"
      },
      "source": [
        "* Here we will encode all the categorical columns using StringIndexer and drop the original columns\n",
        "* label encode all the categorical columns and store them in different columns with the same name + '_idx', so category will become category_idx "
      ]
    },
    {
      "cell_type": "code",
      "execution_count": 40,
      "id": "f6aec281",
      "metadata": {
        "id": "f6aec281"
      },
      "outputs": [],
      "source": [
        "cat_cols = ['flightDate', 'startingAirport', 'destinationAirport',\\\n",
        "            'isBasicEconomy', 'isRefundable','isNonStop','segmentsDepartureTimeRaw',\\\n",
        "            'segmentsArrivalTimeRaw','segmentsArrivalAirportCode',\\\n",
        "            'segmentsDepartureAirportCode', 'segmentsAirlineName','segmentsCabinCode']"
      ]
    },
    {
      "cell_type": "code",
      "execution_count": 41,
      "id": "12838b27",
      "metadata": {
        "id": "12838b27"
      },
      "outputs": [],
      "source": [
        "for col in cat_cols:\n",
        "    indexer = StringIndexer(inputCol=col, outputCol=col+'_idx')\n",
        "    data = indexer.fit(data).transform(data) #here we fit and transform the data altogether\n",
        "    \n",
        "data = data.drop(*cat_cols) #we will drop all the categorical columns we defined earlier"
      ]
    },
    {
      "cell_type": "code",
      "execution_count": 42,
      "id": "10a48c96",
      "metadata": {
        "colab": {
          "base_uri": "https://localhost:8080/"
        },
        "id": "10a48c96",
        "outputId": "8447b56a-6711-4e56-befe-8e8431a7e20b"
      },
      "outputs": [
        {
          "output_type": "stream",
          "name": "stdout",
          "text": [
            "+-----------+--------+---------+--------------+-------------------+---------------------------------+-------------------------------+-------------------------+----------------+-------------------------------+----------------------------------+------------------------+--------------+-------------------+----------------------+------------------+----------------+-------------+----------------------------+--------------------------+------------------------------+--------------------------------+-----------------------+---------------------+\n",
            "|elapsedDays|baseFare|totalFare|seatsRemaining|totalTravelDistance|segmentsDepartureTimeEpochSeconds|segmentsArrivalTimeEpochSeconds|segmentsDurationInSeconds|segmentsDistance|segmentsArrivalTimeEpochInhours|segmentsDepartureTimeEpochInhours |segmentsDurationInhours |flightDate_idx|startingAirport_idx|destinationAirport_idx|isBasicEconomy_idx|isRefundable_idx|isNonStop_idx|segmentsDepartureTimeRaw_idx|segmentsArrivalTimeRaw_idx|segmentsArrivalAirportCode_idx|segmentsDepartureAirportCode_idx|segmentsAirlineName_idx|segmentsCabinCode_idx|\n",
            "+-----------+--------+---------+--------------+-------------------+---------------------------------+-------------------------------+-------------------------+----------------+-------------------------------+----------------------------------+------------------------+--------------+-------------------+----------------------+------------------+----------------+-------------+----------------------------+--------------------------+------------------------------+--------------------------------+-----------------------+---------------------+\n",
            "|          0|  217.67|    248.6|             9|                947|                       1650214620|                     1650223560|                     8940|             947|                             19|                                16|                       2|          57.0|                8.0|                   3.0|               0.0|             0.0|          1.0|                       488.0|                     303.0|                           4.0|                             7.0|                    1.0|                  0.0|\n",
            "|          0|  217.67|    248.6|             4|                947|                       1650191400|                     1650200400|                     9000|             947|                             13|                                10|                       2|          57.0|                8.0|                   3.0|               0.0|             0.0|          1.0|                         5.0|                     157.0|                           4.0|                             7.0|                    1.0|                  0.0|\n",
            "|          0|  217.67|    248.6|             9|                947|                       1650209700|                     1650218700|                     9000|             947|                             18|                                15|                       2|          57.0|                8.0|                   3.0|               0.0|             0.0|          1.0|                       120.0|                     108.0|                           4.0|                             7.0|                    1.0|                  0.0|\n",
            "|          0|  217.67|    248.6|             8|                947|                       1650218340|                     1650227460|                     9120|             947|                             20|                                17|                       2|          57.0|                8.0|                   3.0|               0.0|             0.0|          1.0|                       440.0|                     535.0|                           4.0|                             7.0|                    1.0|                  0.0|\n",
            "|          0|  217.67|    248.6|             9|                947|                       1650203940|                     1650213180|                     9240|             947|                             16|                                13|                       2|          57.0|                8.0|                   3.0|               0.0|             0.0|          1.0|                       109.0|                      22.0|                           4.0|                             7.0|                    1.0|                  0.0|\n",
            "|          0|  213.02|    251.1|             3|                956|                       1650198000|                     1650203400|                     5400|             228|                             13|                                12|                       1|          57.0|                8.0|                   3.0|               0.0|             0.0|          0.0|                        58.0|                     176.0|                           2.0|                             7.0|                    0.0|                  0.0|\n",
            "|          0|  213.02|    251.1|             3|                956|                       1650198000|                     1650203400|                     5400|             228|                             13|                                12|                       1|          57.0|                8.0|                   3.0|               0.0|             0.0|          0.0|                        58.0|                     176.0|                           2.0|                             7.0|                    0.0|                  0.0|\n",
            "|          0|  213.02|    251.1|             7|                956|                       1650193200|                     1650198060|                     4860|             228|                             12|                                11|                       1|          57.0|                8.0|                   3.0|               0.0|             0.0|          0.0|                         1.0|                     139.0|                           2.0|                             7.0|                    0.0|                  0.0|\n",
            "|          0|  213.02|    251.1|             7|                956|                       1650193200|                     1650198060|                     4860|             228|                             12|                                11|                       1|          57.0|                8.0|                   3.0|               0.0|             0.0|          0.0|                         1.0|                     139.0|                           2.0|                             7.0|                    0.0|                  0.0|\n",
            "|          0|  213.02|    252.6|             1|                947|                       1650187800|                     1650194280|                     6480|             541|                             11|                                 9|                       1|          57.0|                8.0|                   3.0|               0.0|             0.0|          0.0|                        53.0|                     405.0|                          10.0|                             7.0|                    2.0|                  0.0|\n",
            "|          0|  213.02|    252.6|             3|               1462|                       1650220740|                     1650228840|                     8100|             600|                             20|                                18|                       2|          57.0|                8.0|                   3.0|               0.0|             0.0|          0.0|                       478.0|                     206.0|                           0.0|                             7.0|                    0.0|                  0.0|\n",
            "|          0|  213.02|    252.6|             5|               1462|                       1650232800|                     1650240660|                     7860|             600|                              0|                                22|                       2|          57.0|                8.0|                   3.0|               0.0|             0.0|          0.0|                        23.0|                     660.0|                           0.0|                             7.0|                    0.0|                  0.0|\n",
            "|          0|  213.02|    252.6|             3|               1462|                       1650220740|                     1650228840|                     8100|             600|                             20|                                18|                       2|          57.0|                8.0|                   3.0|               0.0|             0.0|          0.0|                       478.0|                     206.0|                           0.0|                             7.0|                    0.0|                  0.0|\n",
            "|          0|  213.02|    252.6|             2|               1462|                       1650190200|                     1650198000|                     7800|             600|                             12|                                10|                       2|          57.0|                8.0|                   3.0|               0.0|             0.0|          0.0|                       108.0|                     490.0|                           0.0|                             7.0|                    2.0|                  0.0|\n",
            "|          0|  260.47|   302.11|             1|                956|                       1650233700|                     1650238620|                     4920|             228|                             23|                                22|                       1|          57.0|                8.0|                   3.0|               0.0|             0.0|          0.0|                        45.0|                     784.0|                           2.0|                             7.0|                    0.0|                  0.0|\n",
            "|          0|  260.47|   302.11|             1|                956|                       1650207720|                     1650212880|                     5160|             228|                             16|                                15|                       1|          57.0|                8.0|                   3.0|               0.0|             0.0|          0.0|                       477.0|                     381.0|                           2.0|                             7.0|                    0.0|                  0.0|\n",
            "|          0|  260.47|   302.11|             1|                956|                       1650226680|                     1650230760|                     4080|             228|                             21|                                20|                       1|          57.0|                8.0|                   3.0|               0.0|             0.0|          0.0|                       311.0|                     292.0|                           2.0|                             7.0|                    0.0|                  0.0|\n",
            "|          0|  260.47|   302.11|             1|                956|                       1650207720|                     1650212880|                     5160|             228|                             16|                                15|                       1|          57.0|                8.0|                   3.0|               0.0|             0.0|          0.0|                       477.0|                     381.0|                           2.0|                             7.0|                    0.0|                  0.0|\n",
            "|          0|  260.47|   302.11|             1|                956|                       1650226680|                     1650230760|                     4080|             228|                             21|                                20|                       1|          57.0|                8.0|                   3.0|               0.0|             0.0|          0.0|                       311.0|                     292.0|                           2.0|                             7.0|                    0.0|                  0.0|\n",
            "|          1|   258.6|    307.2|             9|                947|                       1650244980|                     1650253320|                     8340|             762|                              3|                                 1|                       2|          57.0|                8.0|                   3.0|               1.0|             0.0|          0.0|                       781.0|                     542.0|                           3.0|                             7.0|                    2.0|                  0.0|\n",
            "+-----------+--------+---------+--------------+-------------------+---------------------------------+-------------------------------+-------------------------+----------------+-------------------------------+----------------------------------+------------------------+--------------+-------------------+----------------------+------------------+----------------+-------------+----------------------------+--------------------------+------------------------------+--------------------------------+-----------------------+---------------------+\n",
            "only showing top 20 rows\n",
            "\n"
          ]
        }
      ],
      "source": [
        "data.show()"
      ]
    },
    {
      "cell_type": "markdown",
      "id": "4cf886ef",
      "metadata": {
        "id": "4cf886ef"
      },
      "source": [
        "### Combining Feature Columns\n",
        "* using Vector Assembler to combine all the features into one column called features. because Machine Learning algorithms in PySpark only take two columns; one that contains all the features, and the other than contains all the labels.."
      ]
    },
    {
      "cell_type": "code",
      "execution_count": 43,
      "id": "b1ea82b3",
      "metadata": {
        "id": "b1ea82b3"
      },
      "outputs": [],
      "source": [
        "cols = data.columns\n",
        "cols.remove('totalFare') #remove price -> we need this to be our label\n",
        "\n",
        "#vector assembler will take all the columns and convert them into one column called features\n",
        "assembler = VectorAssembler(inputCols=cols, outputCol='features')\n",
        "\n",
        "#the .transform will apply the changes here\n",
        "data = assembler.transform(data)"
      ]
    },
    {
      "cell_type": "code",
      "execution_count": 44,
      "id": "ab30ace5",
      "metadata": {
        "colab": {
          "base_uri": "https://localhost:8080/"
        },
        "id": "ab30ace5",
        "outputId": "77f1acce-df76-451d-eccf-afc23e38e248"
      },
      "outputs": [
        {
          "output_type": "stream",
          "name": "stdout",
          "text": [
            "+-----------+--------+---------+--------------+-------------------+---------------------------------+-------------------------------+-------------------------+----------------+-------------------------------+----------------------------------+------------------------+--------------+-------------------+----------------------+------------------+----------------+-------------+----------------------------+--------------------------+------------------------------+--------------------------------+-----------------------+---------------------+--------------------+\n",
            "|elapsedDays|baseFare|totalFare|seatsRemaining|totalTravelDistance|segmentsDepartureTimeEpochSeconds|segmentsArrivalTimeEpochSeconds|segmentsDurationInSeconds|segmentsDistance|segmentsArrivalTimeEpochInhours|segmentsDepartureTimeEpochInhours |segmentsDurationInhours |flightDate_idx|startingAirport_idx|destinationAirport_idx|isBasicEconomy_idx|isRefundable_idx|isNonStop_idx|segmentsDepartureTimeRaw_idx|segmentsArrivalTimeRaw_idx|segmentsArrivalAirportCode_idx|segmentsDepartureAirportCode_idx|segmentsAirlineName_idx|segmentsCabinCode_idx|            features|\n",
            "+-----------+--------+---------+--------------+-------------------+---------------------------------+-------------------------------+-------------------------+----------------+-------------------------------+----------------------------------+------------------------+--------------+-------------------+----------------------+------------------+----------------+-------------+----------------------------+--------------------------+------------------------------+--------------------------------+-----------------------+---------------------+--------------------+\n",
            "|          0|  217.67|    248.6|             9|                947|                       1650214620|                     1650223560|                     8940|             947|                             19|                                16|                       2|          57.0|                8.0|                   3.0|               0.0|             0.0|          1.0|                       488.0|                     303.0|                           4.0|                             7.0|                    1.0|                  0.0|[0.0,217.67,9.0,9...|\n",
            "|          0|  217.67|    248.6|             4|                947|                       1650191400|                     1650200400|                     9000|             947|                             13|                                10|                       2|          57.0|                8.0|                   3.0|               0.0|             0.0|          1.0|                         5.0|                     157.0|                           4.0|                             7.0|                    1.0|                  0.0|[0.0,217.67,4.0,9...|\n",
            "|          0|  217.67|    248.6|             9|                947|                       1650209700|                     1650218700|                     9000|             947|                             18|                                15|                       2|          57.0|                8.0|                   3.0|               0.0|             0.0|          1.0|                       120.0|                     108.0|                           4.0|                             7.0|                    1.0|                  0.0|[0.0,217.67,9.0,9...|\n",
            "|          0|  217.67|    248.6|             8|                947|                       1650218340|                     1650227460|                     9120|             947|                             20|                                17|                       2|          57.0|                8.0|                   3.0|               0.0|             0.0|          1.0|                       440.0|                     535.0|                           4.0|                             7.0|                    1.0|                  0.0|[0.0,217.67,8.0,9...|\n",
            "|          0|  217.67|    248.6|             9|                947|                       1650203940|                     1650213180|                     9240|             947|                             16|                                13|                       2|          57.0|                8.0|                   3.0|               0.0|             0.0|          1.0|                       109.0|                      22.0|                           4.0|                             7.0|                    1.0|                  0.0|[0.0,217.67,9.0,9...|\n",
            "|          0|  213.02|    251.1|             3|                956|                       1650198000|                     1650203400|                     5400|             228|                             13|                                12|                       1|          57.0|                8.0|                   3.0|               0.0|             0.0|          0.0|                        58.0|                     176.0|                           2.0|                             7.0|                    0.0|                  0.0|[0.0,213.02,3.0,9...|\n",
            "|          0|  213.02|    251.1|             3|                956|                       1650198000|                     1650203400|                     5400|             228|                             13|                                12|                       1|          57.0|                8.0|                   3.0|               0.0|             0.0|          0.0|                        58.0|                     176.0|                           2.0|                             7.0|                    0.0|                  0.0|[0.0,213.02,3.0,9...|\n",
            "|          0|  213.02|    251.1|             7|                956|                       1650193200|                     1650198060|                     4860|             228|                             12|                                11|                       1|          57.0|                8.0|                   3.0|               0.0|             0.0|          0.0|                         1.0|                     139.0|                           2.0|                             7.0|                    0.0|                  0.0|[0.0,213.02,7.0,9...|\n",
            "|          0|  213.02|    251.1|             7|                956|                       1650193200|                     1650198060|                     4860|             228|                             12|                                11|                       1|          57.0|                8.0|                   3.0|               0.0|             0.0|          0.0|                         1.0|                     139.0|                           2.0|                             7.0|                    0.0|                  0.0|[0.0,213.02,7.0,9...|\n",
            "|          0|  213.02|    252.6|             1|                947|                       1650187800|                     1650194280|                     6480|             541|                             11|                                 9|                       1|          57.0|                8.0|                   3.0|               0.0|             0.0|          0.0|                        53.0|                     405.0|                          10.0|                             7.0|                    2.0|                  0.0|[0.0,213.02,1.0,9...|\n",
            "|          0|  213.02|    252.6|             3|               1462|                       1650220740|                     1650228840|                     8100|             600|                             20|                                18|                       2|          57.0|                8.0|                   3.0|               0.0|             0.0|          0.0|                       478.0|                     206.0|                           0.0|                             7.0|                    0.0|                  0.0|[0.0,213.02,3.0,1...|\n",
            "|          0|  213.02|    252.6|             5|               1462|                       1650232800|                     1650240660|                     7860|             600|                              0|                                22|                       2|          57.0|                8.0|                   3.0|               0.0|             0.0|          0.0|                        23.0|                     660.0|                           0.0|                             7.0|                    0.0|                  0.0|[0.0,213.02,5.0,1...|\n",
            "|          0|  213.02|    252.6|             3|               1462|                       1650220740|                     1650228840|                     8100|             600|                             20|                                18|                       2|          57.0|                8.0|                   3.0|               0.0|             0.0|          0.0|                       478.0|                     206.0|                           0.0|                             7.0|                    0.0|                  0.0|[0.0,213.02,3.0,1...|\n",
            "|          0|  213.02|    252.6|             2|               1462|                       1650190200|                     1650198000|                     7800|             600|                             12|                                10|                       2|          57.0|                8.0|                   3.0|               0.0|             0.0|          0.0|                       108.0|                     490.0|                           0.0|                             7.0|                    2.0|                  0.0|[0.0,213.02,2.0,1...|\n",
            "|          0|  260.47|   302.11|             1|                956|                       1650233700|                     1650238620|                     4920|             228|                             23|                                22|                       1|          57.0|                8.0|                   3.0|               0.0|             0.0|          0.0|                        45.0|                     784.0|                           2.0|                             7.0|                    0.0|                  0.0|[0.0,260.47,1.0,9...|\n",
            "|          0|  260.47|   302.11|             1|                956|                       1650207720|                     1650212880|                     5160|             228|                             16|                                15|                       1|          57.0|                8.0|                   3.0|               0.0|             0.0|          0.0|                       477.0|                     381.0|                           2.0|                             7.0|                    0.0|                  0.0|[0.0,260.47,1.0,9...|\n",
            "|          0|  260.47|   302.11|             1|                956|                       1650226680|                     1650230760|                     4080|             228|                             21|                                20|                       1|          57.0|                8.0|                   3.0|               0.0|             0.0|          0.0|                       311.0|                     292.0|                           2.0|                             7.0|                    0.0|                  0.0|[0.0,260.47,1.0,9...|\n",
            "|          0|  260.47|   302.11|             1|                956|                       1650207720|                     1650212880|                     5160|             228|                             16|                                15|                       1|          57.0|                8.0|                   3.0|               0.0|             0.0|          0.0|                       477.0|                     381.0|                           2.0|                             7.0|                    0.0|                  0.0|[0.0,260.47,1.0,9...|\n",
            "|          0|  260.47|   302.11|             1|                956|                       1650226680|                     1650230760|                     4080|             228|                             21|                                20|                       1|          57.0|                8.0|                   3.0|               0.0|             0.0|          0.0|                       311.0|                     292.0|                           2.0|                             7.0|                    0.0|                  0.0|[0.0,260.47,1.0,9...|\n",
            "|          1|   258.6|    307.2|             9|                947|                       1650244980|                     1650253320|                     8340|             762|                              3|                                 1|                       2|          57.0|                8.0|                   3.0|               1.0|             0.0|          0.0|                       781.0|                     542.0|                           3.0|                             7.0|                    2.0|                  0.0|[1.0,258.6,9.0,94...|\n",
            "+-----------+--------+---------+--------------+-------------------+---------------------------------+-------------------------------+-------------------------+----------------+-------------------------------+----------------------------------+------------------------+--------------+-------------------+----------------------+------------------+----------------+-------------+----------------------------+--------------------------+------------------------------+--------------------------------+-----------------------+---------------------+--------------------+\n",
            "only showing top 20 rows\n",
            "\n"
          ]
        }
      ],
      "source": [
        "data.show()"
      ]
    },
    {
      "cell_type": "markdown",
      "id": "9da4d6f2",
      "metadata": {
        "id": "9da4d6f2"
      },
      "source": [
        "## Split Data\n",
        "* 80% in training set and 20% is testing set"
      ]
    },
    {
      "cell_type": "code",
      "execution_count": 60,
      "id": "f2f6294d",
      "metadata": {
        "id": "f2f6294d"
      },
      "outputs": [],
      "source": [
        "flight_data = data.select(F.col('features'), F.col('totalFare').alias('label'))\n",
        "\n",
        "flight_train, flight_test = flight_data.randomSplit([0.8, 0.2])"
      ]
    },
    {
      "cell_type": "code",
      "execution_count": 61,
      "id": "bc64c5da",
      "metadata": {
        "colab": {
          "base_uri": "https://localhost:8080/"
        },
        "id": "bc64c5da",
        "outputId": "12647683-9524-4709-9e06-cb040f3c9f53"
      },
      "outputs": [
        {
          "output_type": "stream",
          "name": "stdout",
          "text": [
            "+--------------------+------+\n",
            "|            features| label|\n",
            "+--------------------+------+\n",
            "|[0.0,217.67,9.0,9...| 248.6|\n",
            "|[0.0,217.67,4.0,9...| 248.6|\n",
            "|[0.0,217.67,9.0,9...| 248.6|\n",
            "|[0.0,217.67,8.0,9...| 248.6|\n",
            "|[0.0,217.67,9.0,9...| 248.6|\n",
            "|[0.0,213.02,3.0,9...| 251.1|\n",
            "|[0.0,213.02,3.0,9...| 251.1|\n",
            "|[0.0,213.02,7.0,9...| 251.1|\n",
            "|[0.0,213.02,7.0,9...| 251.1|\n",
            "|[0.0,213.02,1.0,9...| 252.6|\n",
            "|[0.0,213.02,3.0,1...| 252.6|\n",
            "|[0.0,213.02,5.0,1...| 252.6|\n",
            "|[0.0,213.02,3.0,1...| 252.6|\n",
            "|[0.0,213.02,2.0,1...| 252.6|\n",
            "|[0.0,260.47,1.0,9...|302.11|\n",
            "|[0.0,260.47,1.0,9...|302.11|\n",
            "|[0.0,260.47,1.0,9...|302.11|\n",
            "|[0.0,260.47,1.0,9...|302.11|\n",
            "|[0.0,260.47,1.0,9...|302.11|\n",
            "|[1.0,258.6,9.0,94...| 307.2|\n",
            "+--------------------+------+\n",
            "only showing top 20 rows\n",
            "\n"
          ]
        }
      ],
      "source": [
        "flight_data.show()"
      ]
    },
    {
      "cell_type": "markdown",
      "id": "fdefaa3d",
      "metadata": {
        "id": "fdefaa3d"
      },
      "source": [
        "## Model Building"
      ]
    },
    {
      "cell_type": "markdown",
      "id": "9c23dced",
      "metadata": {
        "id": "9c23dced"
      },
      "source": [
        "### Initialize Evaluator and Grid"
      ]
    },
    {
      "cell_type": "code",
      "execution_count": 62,
      "id": "69c8d7dc",
      "metadata": {
        "id": "69c8d7dc"
      },
      "outputs": [],
      "source": [
        "evaluator = RegressionEvaluator()"
      ]
    },
    {
      "cell_type": "markdown",
      "id": "3d77d1ac",
      "metadata": {
        "id": "3d77d1ac"
      },
      "source": [
        "### Linear Regression Model "
      ]
    },
    {
      "cell_type": "code",
      "execution_count": 63,
      "id": "1dcd123a",
      "metadata": {
        "id": "1dcd123a"
      },
      "outputs": [],
      "source": [
        "lr = LinearRegression(maxIter=10, regParam=0.3, elasticNetParam=0.8)\n",
        "r_lr = lr.fit(flight_train)"
      ]
    },
    {
      "cell_type": "markdown",
      "id": "f5d6d53e",
      "metadata": {
        "id": "f5d6d53e"
      },
      "source": [
        "### Make predictions on the testing set using the trained model"
      ]
    },
    {
      "cell_type": "code",
      "execution_count": 64,
      "id": "7f28de5b",
      "metadata": {
        "id": "7f28de5b"
      },
      "outputs": [],
      "source": [
        "pred_lr = r_lr.transform(flight_test)"
      ]
    },
    {
      "cell_type": "code",
      "execution_count": 65,
      "id": "4f248c4d",
      "metadata": {
        "colab": {
          "base_uri": "https://localhost:8080/"
        },
        "id": "4f248c4d",
        "outputId": "5967231d-0bb7-4077-d086-acec7070a6af"
      },
      "outputs": [
        {
          "output_type": "stream",
          "name": "stdout",
          "text": [
            "+--------------------+------+------------------+\n",
            "|            features| label|        prediction|\n",
            "+--------------------+------+------------------+\n",
            "|(23,[1,2,3,4,5,6,...| 117.6|118.03737805620781|\n",
            "|(23,[1,2,3,4,5,6,...|132.61|  133.183318815681|\n",
            "|(23,[1,2,3,4,5,6,...| 137.6|138.05546134428994|\n",
            "|(23,[1,2,3,4,5,6,...| 137.6|  138.030955144963|\n",
            "|(23,[1,2,3,4,5,6,...| 147.6|148.19912191713786|\n",
            "|(23,[1,2,3,4,5,6,...| 147.6|148.19912191713786|\n",
            "|(23,[1,2,3,4,5,6,...| 157.6| 158.0765321462324|\n",
            "|(23,[1,2,3,4,5,6,...| 163.6|164.22302828622344|\n",
            "|(23,[1,2,3,4,5,6,...|171.61|172.08223934317988|\n",
            "|(23,[1,2,3,4,5,6,...|176.61| 177.0875070436655|\n",
            "|(23,[1,2,3,4,5,6,...|177.61| 178.2414921366118|\n",
            "|(23,[1,2,3,4,5,6,...| 181.6|182.10553139759202|\n",
            "|(23,[1,2,3,4,5,6,...| 182.6| 183.1450692936748|\n",
            "|(23,[1,2,3,4,5,6,...| 191.6|192.26329142550316|\n",
            "|(23,[1,2,3,4,5,6,...| 200.6| 201.1010424601105|\n",
            "|(23,[1,2,3,4,5,6,...| 200.6| 201.1010424601105|\n",
            "|(23,[1,2,3,4,5,6,...| 200.6| 201.1255486594374|\n",
            "|(23,[1,2,3,4,5,6,...| 200.6| 201.1255486594374|\n",
            "|(23,[1,2,3,4,5,6,...| 200.6| 201.1255486594374|\n",
            "|(23,[1,2,3,4,5,6,...| 202.6|203.26783063903994|\n",
            "+--------------------+------+------------------+\n",
            "only showing top 20 rows\n",
            "\n"
          ]
        }
      ],
      "source": [
        "pred_lr.show()"
      ]
    },
    {
      "cell_type": "markdown",
      "id": "ef03871f",
      "metadata": {
        "id": "ef03871f"
      },
      "source": [
        "### Random Forest Regression Model "
      ]
    },
    {
      "cell_type": "code",
      "execution_count": 66,
      "id": "62eb2e04",
      "metadata": {
        "id": "62eb2e04"
      },
      "outputs": [],
      "source": [
        "rf = RandomForestRegressor(featuresCol='features', labelCol='label', maxBins=1483)\n",
        "r_rf = rf.fit(flight_train)"
      ]
    },
    {
      "cell_type": "markdown",
      "id": "9aa45f0d",
      "metadata": {
        "id": "9aa45f0d"
      },
      "source": [
        "### Make predictions on the testing set using the trained model"
      ]
    },
    {
      "cell_type": "code",
      "execution_count": 67,
      "id": "d21d3c03",
      "metadata": {
        "id": "d21d3c03"
      },
      "outputs": [],
      "source": [
        "pred_rf = r_rf.transform(flight_test)"
      ]
    },
    {
      "cell_type": "code",
      "execution_count": 68,
      "id": "536eb5c8",
      "metadata": {
        "colab": {
          "base_uri": "https://localhost:8080/"
        },
        "id": "536eb5c8",
        "outputId": "803a2db3-8d34-4794-fda4-e7706d57b563"
      },
      "outputs": [
        {
          "output_type": "stream",
          "name": "stdout",
          "text": [
            "+--------------------+------+------------------+\n",
            "|            features| label|        prediction|\n",
            "+--------------------+------+------------------+\n",
            "|(23,[1,2,3,4,5,6,...| 117.6|169.69188384812307|\n",
            "|(23,[1,2,3,4,5,6,...|132.61|167.28919253444704|\n",
            "|(23,[1,2,3,4,5,6,...| 137.6| 161.4016138643882|\n",
            "|(23,[1,2,3,4,5,6,...| 137.6|158.15718381649572|\n",
            "|(23,[1,2,3,4,5,6,...| 147.6|174.02242484944549|\n",
            "|(23,[1,2,3,4,5,6,...| 147.6|174.02242484944549|\n",
            "|(23,[1,2,3,4,5,6,...| 157.6|177.08987051806832|\n",
            "|(23,[1,2,3,4,5,6,...| 163.6|166.28251170931384|\n",
            "|(23,[1,2,3,4,5,6,...|171.61|196.00830849516657|\n",
            "|(23,[1,2,3,4,5,6,...|176.61|196.00830849516657|\n",
            "|(23,[1,2,3,4,5,6,...|177.61|183.53020717354076|\n",
            "|(23,[1,2,3,4,5,6,...| 181.6| 182.6701378943761|\n",
            "|(23,[1,2,3,4,5,6,...| 182.6| 187.3353620794656|\n",
            "|(23,[1,2,3,4,5,6,...| 191.6| 181.5895118133684|\n",
            "|(23,[1,2,3,4,5,6,...| 200.6|190.15782149292292|\n",
            "|(23,[1,2,3,4,5,6,...| 200.6|190.15782149292292|\n",
            "|(23,[1,2,3,4,5,6,...| 200.6|190.00396384374505|\n",
            "|(23,[1,2,3,4,5,6,...| 200.6|190.00396384374505|\n",
            "|(23,[1,2,3,4,5,6,...| 200.6|  191.870747473785|\n",
            "|(23,[1,2,3,4,5,6,...| 202.6| 194.5462447527128|\n",
            "+--------------------+------+------------------+\n",
            "only showing top 20 rows\n",
            "\n"
          ]
        }
      ],
      "source": [
        "pred_rf.show()"
      ]
    },
    {
      "cell_type": "markdown",
      "id": "db50081d",
      "metadata": {
        "id": "db50081d"
      },
      "source": [
        "### Decision Tree Regression Model "
      ]
    },
    {
      "cell_type": "code",
      "execution_count": 69,
      "id": "66054524",
      "metadata": {
        "id": "66054524"
      },
      "outputs": [],
      "source": [
        "dt = DecisionTreeRegressor(featuresCol=\"features\", labelCol='label', maxBins=1483)\n",
        "r_dt = dt.fit(flight_train)"
      ]
    },
    {
      "cell_type": "markdown",
      "id": "4e3e2376",
      "metadata": {
        "id": "4e3e2376"
      },
      "source": [
        "### Make predictions on the testing set using the trained model"
      ]
    },
    {
      "cell_type": "code",
      "execution_count": 70,
      "id": "25b2b044",
      "metadata": {
        "id": "25b2b044"
      },
      "outputs": [],
      "source": [
        "pred_dt = r_dt.transform(flight_test)"
      ]
    },
    {
      "cell_type": "code",
      "execution_count": 71,
      "id": "22ba699e",
      "metadata": {
        "colab": {
          "base_uri": "https://localhost:8080/"
        },
        "id": "22ba699e",
        "outputId": "e4aefd9e-4dd1-442e-973b-b92a2d508637"
      },
      "outputs": [
        {
          "output_type": "stream",
          "name": "stdout",
          "text": [
            "+--------------------+------+------------------+\n",
            "|            features| label|        prediction|\n",
            "+--------------------+------+------------------+\n",
            "|(23,[1,2,3,4,5,6,...| 117.6|121.25001448638402|\n",
            "|(23,[1,2,3,4,5,6,...|132.61|121.25001448638402|\n",
            "|(23,[1,2,3,4,5,6,...| 137.6|139.96858776256445|\n",
            "|(23,[1,2,3,4,5,6,...| 137.6|139.96858776256445|\n",
            "|(23,[1,2,3,4,5,6,...| 147.6|139.96858776256445|\n",
            "|(23,[1,2,3,4,5,6,...| 147.6|139.96858776256445|\n",
            "|(23,[1,2,3,4,5,6,...| 157.6|156.34973035241737|\n",
            "|(23,[1,2,3,4,5,6,...| 163.6|156.34973035241737|\n",
            "|(23,[1,2,3,4,5,6,...|171.61| 173.9613824042483|\n",
            "|(23,[1,2,3,4,5,6,...|176.61| 173.9613824042483|\n",
            "|(23,[1,2,3,4,5,6,...|177.61| 173.9613824042483|\n",
            "|(23,[1,2,3,4,5,6,...| 181.6| 173.9613824042483|\n",
            "|(23,[1,2,3,4,5,6,...| 182.6| 173.9613824042483|\n",
            "|(23,[1,2,3,4,5,6,...| 191.6|192.63440021554726|\n",
            "|(23,[1,2,3,4,5,6,...| 200.6|192.63440021554726|\n",
            "|(23,[1,2,3,4,5,6,...| 200.6|192.63440021554726|\n",
            "|(23,[1,2,3,4,5,6,...| 200.6|192.63440021554726|\n",
            "|(23,[1,2,3,4,5,6,...| 200.6|192.63440021554726|\n",
            "|(23,[1,2,3,4,5,6,...| 200.6|192.63440021554726|\n",
            "|(23,[1,2,3,4,5,6,...| 202.6|192.63440021554726|\n",
            "+--------------------+------+------------------+\n",
            "only showing top 20 rows\n",
            "\n"
          ]
        }
      ],
      "source": [
        "pred_dt.show()"
      ]
    },
    {
      "cell_type": "markdown",
      "id": "6f471908",
      "metadata": {
        "id": "6f471908"
      },
      "source": [
        "### Gradient Boosted Tree Regression Model "
      ]
    },
    {
      "cell_type": "code",
      "execution_count": 72,
      "id": "038af3d2",
      "metadata": {
        "id": "038af3d2"
      },
      "outputs": [],
      "source": [
        "gbt = GBTRegressor(featuresCol=\"features\", labelCol='label', maxIter=10, maxBins=1483)\n",
        "r_gbt = gbt.fit(flight_train)"
      ]
    },
    {
      "cell_type": "markdown",
      "id": "adb3f806",
      "metadata": {
        "id": "adb3f806"
      },
      "source": [
        "### Make predictions on the testing set using the trained model"
      ]
    },
    {
      "cell_type": "code",
      "execution_count": 73,
      "id": "ed252509",
      "metadata": {
        "id": "ed252509"
      },
      "outputs": [],
      "source": [
        "pred_gbt = r_gbt.transform(flight_test)"
      ]
    },
    {
      "cell_type": "code",
      "execution_count": 74,
      "id": "235d229a",
      "metadata": {
        "colab": {
          "base_uri": "https://localhost:8080/"
        },
        "id": "235d229a",
        "outputId": "28c465cb-6cd0-4f61-d580-079b4efff547"
      },
      "outputs": [
        {
          "output_type": "stream",
          "name": "stdout",
          "text": [
            "+--------------------+------+------------------+\n",
            "|            features| label|        prediction|\n",
            "+--------------------+------+------------------+\n",
            "|(23,[1,2,3,4,5,6,...| 117.6|124.42174153854407|\n",
            "|(23,[1,2,3,4,5,6,...|132.61|125.77469226613337|\n",
            "|(23,[1,2,3,4,5,6,...| 137.6|141.69123200597073|\n",
            "|(23,[1,2,3,4,5,6,...| 137.6|141.69123200597073|\n",
            "|(23,[1,2,3,4,5,6,...| 147.6|143.86354547811362|\n",
            "|(23,[1,2,3,4,5,6,...| 147.6|143.86354547811362|\n",
            "|(23,[1,2,3,4,5,6,...| 157.6|158.95609707822112|\n",
            "|(23,[1,2,3,4,5,6,...| 163.6| 160.2054285238784|\n",
            "|(23,[1,2,3,4,5,6,...|171.61| 177.0961043404126|\n",
            "|(23,[1,2,3,4,5,6,...|176.61|177.34093388678065|\n",
            "|(23,[1,2,3,4,5,6,...|177.61|177.01490336051776|\n",
            "|(23,[1,2,3,4,5,6,...| 181.6|177.84929415721408|\n",
            "|(23,[1,2,3,4,5,6,...| 182.6|177.84929415721408|\n",
            "|(23,[1,2,3,4,5,6,...| 191.6|194.51360677131686|\n",
            "|(23,[1,2,3,4,5,6,...| 200.6|196.80066270985486|\n",
            "|(23,[1,2,3,4,5,6,...| 200.6|196.80066270985486|\n",
            "|(23,[1,2,3,4,5,6,...| 200.6|196.80066270985486|\n",
            "|(23,[1,2,3,4,5,6,...| 200.6|196.80066270985486|\n",
            "|(23,[1,2,3,4,5,6,...| 200.6|196.80066270985486|\n",
            "|(23,[1,2,3,4,5,6,...| 202.6|198.44487157729412|\n",
            "+--------------------+------+------------------+\n",
            "only showing top 20 rows\n",
            "\n"
          ]
        }
      ],
      "source": [
        "pred_gbt.show()"
      ]
    },
    {
      "cell_type": "markdown",
      "id": "312c76ed",
      "metadata": {
        "id": "312c76ed"
      },
      "source": [
        "## Models Evaluation"
      ]
    },
    {
      "cell_type": "code",
      "execution_count": 75,
      "id": "57824688",
      "metadata": {
        "id": "57824688"
      },
      "outputs": [],
      "source": [
        "models = [pred_rf, pred_gbt, pred_dt, pred_lr] #list of models we have\n",
        "\n",
        "evaluator_R = RegressionEvaluator(predictionCol='prediction', labelCol='label', metricName='r2')\n",
        "\n",
        "evaluator_RMSE = RegressionEvaluator(predictionCol='prediction', labelCol='label', metricName='rmse')\n",
        "\n",
        "evaluator_MAE = RegressionEvaluator(predictionCol='prediction', labelCol='label', metricName='mae')\n",
        "\n",
        "# Empty lists that will store the scores for each metric for each model.\n",
        "R2 = []\n",
        "RMSE = []\n",
        "MAE = []\n",
        "\n",
        "# Simple loop to populate the empty lists with scores of models for each metric.\n",
        "for model in models:\n",
        "    R2.append(evaluator_R.evaluate(model))\n",
        "    RMSE.append(evaluator_RMSE.evaluate(model))\n",
        "    MAE.append(evaluator_MAE.evaluate(model))"
      ]
    },
    {
      "cell_type": "code",
      "execution_count": 76,
      "id": "82c6add5",
      "metadata": {
        "id": "82c6add5"
      },
      "outputs": [],
      "source": [
        "# We will convert all lists created above into a dataframe for easy viewing.\n",
        "Models_Evaluation = pd.DataFrame(list(zip(R2, RMSE, MAE)), \n",
        "                     columns = ['R-squared', 'Root Mean Squared Error', 'Mean Absolute Error'],\n",
        "                     index = ['Random Forest Regressor', 'Gradient Boosted Trees Regressor', 'Decision Tree Regressor', 'Linear Regression'])"
      ]
    },
    {
      "cell_type": "code",
      "execution_count": 77,
      "id": "9ab38eb9",
      "metadata": {
        "colab": {
          "base_uri": "https://localhost:8080/",
          "height": 175
        },
        "id": "9ab38eb9",
        "outputId": "c6fb0c88-7875-41e8-ec1e-08a9ed529b72"
      },
      "outputs": [
        {
          "output_type": "execute_result",
          "data": {
            "text/plain": [
              "                                  R-squared  Root Mean Squared Error  \\\n",
              "Random Forest Regressor            0.949554                34.144418   \n",
              "Gradient Boosted Trees Regressor   0.998799                 5.268007   \n",
              "Decision Tree Regressor            0.997764                 7.188836   \n",
              "Linear Regression                  0.999753                 2.390109   \n",
              "\n",
              "                                  Mean Absolute Error  \n",
              "Random Forest Regressor                     23.221323  \n",
              "Gradient Boosted Trees Regressor             4.300254  \n",
              "Decision Tree Regressor                      5.818735  \n",
              "Linear Regression                            1.682378  "
            ],
            "text/html": [
              "\n",
              "  <div id=\"df-7158aa83-1e83-4295-9fb8-407bee1aefeb\">\n",
              "    <div class=\"colab-df-container\">\n",
              "      <div>\n",
              "<style scoped>\n",
              "    .dataframe tbody tr th:only-of-type {\n",
              "        vertical-align: middle;\n",
              "    }\n",
              "\n",
              "    .dataframe tbody tr th {\n",
              "        vertical-align: top;\n",
              "    }\n",
              "\n",
              "    .dataframe thead th {\n",
              "        text-align: right;\n",
              "    }\n",
              "</style>\n",
              "<table border=\"1\" class=\"dataframe\">\n",
              "  <thead>\n",
              "    <tr style=\"text-align: right;\">\n",
              "      <th></th>\n",
              "      <th>R-squared</th>\n",
              "      <th>Root Mean Squared Error</th>\n",
              "      <th>Mean Absolute Error</th>\n",
              "    </tr>\n",
              "  </thead>\n",
              "  <tbody>\n",
              "    <tr>\n",
              "      <th>Random Forest Regressor</th>\n",
              "      <td>0.949554</td>\n",
              "      <td>34.144418</td>\n",
              "      <td>23.221323</td>\n",
              "    </tr>\n",
              "    <tr>\n",
              "      <th>Gradient Boosted Trees Regressor</th>\n",
              "      <td>0.998799</td>\n",
              "      <td>5.268007</td>\n",
              "      <td>4.300254</td>\n",
              "    </tr>\n",
              "    <tr>\n",
              "      <th>Decision Tree Regressor</th>\n",
              "      <td>0.997764</td>\n",
              "      <td>7.188836</td>\n",
              "      <td>5.818735</td>\n",
              "    </tr>\n",
              "    <tr>\n",
              "      <th>Linear Regression</th>\n",
              "      <td>0.999753</td>\n",
              "      <td>2.390109</td>\n",
              "      <td>1.682378</td>\n",
              "    </tr>\n",
              "  </tbody>\n",
              "</table>\n",
              "</div>\n",
              "      <button class=\"colab-df-convert\" onclick=\"convertToInteractive('df-7158aa83-1e83-4295-9fb8-407bee1aefeb')\"\n",
              "              title=\"Convert this dataframe to an interactive table.\"\n",
              "              style=\"display:none;\">\n",
              "        \n",
              "  <svg xmlns=\"http://www.w3.org/2000/svg\" height=\"24px\"viewBox=\"0 0 24 24\"\n",
              "       width=\"24px\">\n",
              "    <path d=\"M0 0h24v24H0V0z\" fill=\"none\"/>\n",
              "    <path d=\"M18.56 5.44l.94 2.06.94-2.06 2.06-.94-2.06-.94-.94-2.06-.94 2.06-2.06.94zm-11 1L8.5 8.5l.94-2.06 2.06-.94-2.06-.94L8.5 2.5l-.94 2.06-2.06.94zm10 10l.94 2.06.94-2.06 2.06-.94-2.06-.94-.94-2.06-.94 2.06-2.06.94z\"/><path d=\"M17.41 7.96l-1.37-1.37c-.4-.4-.92-.59-1.43-.59-.52 0-1.04.2-1.43.59L10.3 9.45l-7.72 7.72c-.78.78-.78 2.05 0 2.83L4 21.41c.39.39.9.59 1.41.59.51 0 1.02-.2 1.41-.59l7.78-7.78 2.81-2.81c.8-.78.8-2.07 0-2.86zM5.41 20L4 18.59l7.72-7.72 1.47 1.35L5.41 20z\"/>\n",
              "  </svg>\n",
              "      </button>\n",
              "      \n",
              "  <style>\n",
              "    .colab-df-container {\n",
              "      display:flex;\n",
              "      flex-wrap:wrap;\n",
              "      gap: 12px;\n",
              "    }\n",
              "\n",
              "    .colab-df-convert {\n",
              "      background-color: #E8F0FE;\n",
              "      border: none;\n",
              "      border-radius: 50%;\n",
              "      cursor: pointer;\n",
              "      display: none;\n",
              "      fill: #1967D2;\n",
              "      height: 32px;\n",
              "      padding: 0 0 0 0;\n",
              "      width: 32px;\n",
              "    }\n",
              "\n",
              "    .colab-df-convert:hover {\n",
              "      background-color: #E2EBFA;\n",
              "      box-shadow: 0px 1px 2px rgba(60, 64, 67, 0.3), 0px 1px 3px 1px rgba(60, 64, 67, 0.15);\n",
              "      fill: #174EA6;\n",
              "    }\n",
              "\n",
              "    [theme=dark] .colab-df-convert {\n",
              "      background-color: #3B4455;\n",
              "      fill: #D2E3FC;\n",
              "    }\n",
              "\n",
              "    [theme=dark] .colab-df-convert:hover {\n",
              "      background-color: #434B5C;\n",
              "      box-shadow: 0px 1px 3px 1px rgba(0, 0, 0, 0.15);\n",
              "      filter: drop-shadow(0px 1px 2px rgba(0, 0, 0, 0.3));\n",
              "      fill: #FFFFFF;\n",
              "    }\n",
              "  </style>\n",
              "\n",
              "      <script>\n",
              "        const buttonEl =\n",
              "          document.querySelector('#df-7158aa83-1e83-4295-9fb8-407bee1aefeb button.colab-df-convert');\n",
              "        buttonEl.style.display =\n",
              "          google.colab.kernel.accessAllowed ? 'block' : 'none';\n",
              "\n",
              "        async function convertToInteractive(key) {\n",
              "          const element = document.querySelector('#df-7158aa83-1e83-4295-9fb8-407bee1aefeb');\n",
              "          const dataTable =\n",
              "            await google.colab.kernel.invokeFunction('convertToInteractive',\n",
              "                                                     [key], {});\n",
              "          if (!dataTable) return;\n",
              "\n",
              "          const docLinkHtml = 'Like what you see? Visit the ' +\n",
              "            '<a target=\"_blank\" href=https://colab.research.google.com/notebooks/data_table.ipynb>data table notebook</a>'\n",
              "            + ' to learn more about interactive tables.';\n",
              "          element.innerHTML = '';\n",
              "          dataTable['output_type'] = 'display_data';\n",
              "          await google.colab.output.renderOutput(dataTable, element);\n",
              "          const docLink = document.createElement('div');\n",
              "          docLink.innerHTML = docLinkHtml;\n",
              "          element.appendChild(docLink);\n",
              "        }\n",
              "      </script>\n",
              "    </div>\n",
              "  </div>\n",
              "  "
            ]
          },
          "metadata": {},
          "execution_count": 77
        }
      ],
      "source": [
        "Models_Evaluation"
      ]
    },
    {
      "cell_type": "markdown",
      "source": [
        "### Above are the results of the model. Each model gives a high accuracy result\n",
        "### The highest and best among them is Linear Regression with an accuracy of 99.9%."
      ],
      "metadata": {
        "id": "FuHPAAFuazLp"
      },
      "id": "FuHPAAFuazLp"
    },
    {
      "cell_type": "code",
      "execution_count": null,
      "id": "09897473",
      "metadata": {
        "id": "09897473"
      },
      "outputs": [],
      "source": []
    }
  ],
  "metadata": {
    "kernelspec": {
      "display_name": "Python 3 (ipykernel)",
      "language": "python",
      "name": "python3"
    },
    "language_info": {
      "codemirror_mode": {
        "name": "ipython",
        "version": 3
      },
      "file_extension": ".py",
      "mimetype": "text/x-python",
      "name": "python",
      "nbconvert_exporter": "python",
      "pygments_lexer": "ipython3",
      "version": "3.9.12"
    },
    "colab": {
      "provenance": []
    }
  },
  "nbformat": 4,
  "nbformat_minor": 5
}